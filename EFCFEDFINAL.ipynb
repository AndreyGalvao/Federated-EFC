{
  "cells": [
    {
      "cell_type": "code",
      "execution_count": null,
      "metadata": {
        "colab": {
          "base_uri": "https://localhost:8080/"
        },
        "id": "T8xpySIWVsZl",
        "outputId": "633dfd0b-732b-4cea-e8f8-3c8badc1f204"
      },
      "outputs": [
        {
          "output_type": "stream",
          "name": "stdout",
          "text": [
            "Collecting git+https://github.com/EnergyBasedFlowClassifier/EFC-package\n",
            "  Cloning https://github.com/EnergyBasedFlowClassifier/EFC-package to /tmp/pip-req-build-6l5pjs97\n",
            "  Running command git clone --filter=blob:none --quiet https://github.com/EnergyBasedFlowClassifier/EFC-package /tmp/pip-req-build-6l5pjs97\n",
            "  Resolved https://github.com/EnergyBasedFlowClassifier/EFC-package to commit 75ca0afb3e9259d6a87db16bf0e850167355a7d4\n",
            "  Preparing metadata (setup.py) ... \u001b[?25l\u001b[?25hdone\n",
            "Requirement already satisfied: numpy in /usr/local/lib/python3.11/dist-packages (from efc==0.1.0) (2.0.2)\n",
            "Requirement already satisfied: cython in /usr/local/lib/python3.11/dist-packages (from efc==0.1.0) (3.0.12)\n",
            "Requirement already satisfied: scikit-learn in /usr/local/lib/python3.11/dist-packages (from efc==0.1.0) (1.6.1)\n",
            "Requirement already satisfied: scipy>=1.6.0 in /usr/local/lib/python3.11/dist-packages (from scikit-learn->efc==0.1.0) (1.16.1)\n",
            "Requirement already satisfied: joblib>=1.2.0 in /usr/local/lib/python3.11/dist-packages (from scikit-learn->efc==0.1.0) (1.5.1)\n",
            "Requirement already satisfied: threadpoolctl>=3.1.0 in /usr/local/lib/python3.11/dist-packages (from scikit-learn->efc==0.1.0) (3.6.0)\n",
            "Building wheels for collected packages: efc\n",
            "  Building wheel for efc (setup.py) ... \u001b[?25l\u001b[?25hdone\n",
            "  Created wheel for efc: filename=efc-0.1.0-cp311-cp311-linux_x86_64.whl size=500927 sha256=9bd978c283aac4305f5398f8479df59f46db2097363cfe62f3dd462e4fcb04b3\n",
            "  Stored in directory: /tmp/pip-ephem-wheel-cache-6eyrqxne/wheels/37/21/6c/98860b7c505eb0b8b6bdc8c34042ecdd6ca2f3529091bb81e8\n",
            "Successfully built efc\n",
            "Installing collected packages: efc\n",
            "Successfully installed efc-0.1.0\n"
          ]
        }
      ],
      "source": [
        "!pip install git+https://github.com/EnergyBasedFlowClassifier/EFC-package"
      ]
    },
    {
      "cell_type": "code",
      "execution_count": null,
      "metadata": {
        "colab": {
          "base_uri": "https://localhost:8080/"
        },
        "id": "VwenE7fU4gao",
        "outputId": "78d6d9ff-0e31-4562-b208-a0bcb569e485"
      },
      "outputs": [
        {
          "output_type": "stream",
          "name": "stdout",
          "text": [
            "Mounted at /content/drive\n"
          ]
        }
      ],
      "source": [
        "#@title Import Drive\n",
        "\n",
        "# from google.colab import drive\n",
        "# drive.flush_and_unmount()\n",
        "# print('Drive desvinculado!')\n",
        "from google.colab import drive\n",
        "drive.mount('/content/drive', force_remount=True)\n"
      ]
    },
    {
      "cell_type": "markdown",
      "metadata": {
        "id": "XIh-ynxYtIFT"
      },
      "source": [
        "## Carregar datasets"
      ]
    },
    {
      "cell_type": "code",
      "execution_count": null,
      "metadata": {
        "id": "V8qH3OHI4jUl"
      },
      "outputs": [],
      "source": [
        "#@title carregando dataset e separando as labels\n",
        "import numpy as np\n",
        "import pandas as pd\n",
        "import matplotlib.pyplot as plt\n",
        "\n",
        "# CTU Dataset preprocessado\n",
        "\n",
        "CTU_all_scenarios = pd.read_csv('/content/drive/MyDrive/dataset/CTU13/csv_labels/pre_bin_all_scenarios_data.csv')\n",
        "CTU_all_scenarios = CTU_all_scenarios.sample(frac=1, random_state=42).reset_index(drop=True)\n",
        "\n",
        "#isot Dataset preprocessado\n",
        "\n",
        "isot_HTTP_all = pd.read_csv('/content/drive/MyDrive/dataset/ISOT-HTTP/csv_labels/pre_bin_all_data_isot.csv')\n",
        "isot_HTTP_all = isot_HTTP_all.sample(frac=1, random_state=42).reset_index(drop=True)\n",
        "\n"
      ]
    },
    {
      "cell_type": "markdown",
      "metadata": {
        "id": "aADIMw8mte30"
      },
      "source": [
        "## Serapação pro treinamento"
      ]
    },
    {
      "cell_type": "code",
      "execution_count": null,
      "metadata": {
        "colab": {
          "base_uri": "https://localhost:8080/",
          "height": 475
        },
        "collapsed": true,
        "id": "N5LGGScWHeWj",
        "outputId": "3e391300-ee4e-4f94-ffa8-3df3d2bbafe9"
      },
      "outputs": [
        {
          "output_type": "display_data",
          "data": {
            "text/plain": [
              "        Dst Port  Flow Duration  Tot Fwd Pkts  Tot Bwd Pkts  TotLen Fwd Pkts  \\\n",
              "0             80        5330563             4             4           1092.0   \n",
              "1            443        5233994             6             4            611.0   \n",
              "2            443           4200             3             0             43.0   \n",
              "3             53            196             2             2            102.0   \n",
              "4          49590              2             3             0             43.0   \n",
              "...          ...            ...           ...           ...              ...   \n",
              "627380       443       10388444             5             4            580.0   \n",
              "627381     61838              3             2             0             37.0   \n",
              "627382        53          60940             1             1             43.0   \n",
              "627383       443      118257452            20            17           1042.0   \n",
              "627384        53          30300             1             1             50.0   \n",
              "\n",
              "        TotLen Bwd Pkts  Fwd Pkt Len Max  Fwd Pkt Len Min  Fwd Pkt Len Mean  \\\n",
              "0                 560.0           1080.0              0.0        273.000000   \n",
              "1                 168.0            517.0              0.0        101.833333   \n",
              "2                   0.0             31.0              6.0         14.333333   \n",
              "3                 224.0             51.0             51.0         51.000000   \n",
              "4                   0.0             31.0              6.0         14.333333   \n",
              "...                 ...              ...              ...               ...   \n",
              "627380            164.0            517.0              0.0        116.000000   \n",
              "627381              0.0             31.0              6.0         18.500000   \n",
              "627382            113.0             43.0             43.0         43.000000   \n",
              "627383           5007.0            442.0              0.0         52.100000   \n",
              "627384            111.0             50.0             50.0         50.000000   \n",
              "\n",
              "        Fwd Pkt Len Std  ...  Fwd Seg Size Min  Active Mean     Active Std  \\\n",
              "0            538.007435  ...                20          0.0       0.000000   \n",
              "1            204.305082  ...                20     156142.0       0.000000   \n",
              "2             14.433757  ...                20          0.0       0.000000   \n",
              "3              0.000000  ...                20          0.0       0.000000   \n",
              "4             14.433757  ...                20          0.0       0.000000   \n",
              "...                 ...  ...               ...          ...            ...   \n",
              "627380       225.101088  ...                20          0.0       0.000000   \n",
              "627381        17.677670  ...                20          0.0       0.000000   \n",
              "627382         0.000000  ...                32          0.0       0.000000   \n",
              "627383       108.083253  ...                32     485453.0  501898.736432   \n",
              "627384         0.000000  ...                32          0.0       0.000000   \n",
              "\n",
              "        Active Max  Active Min   Idle Mean      Idle Std    Idle Max  \\\n",
              "0                0           0         0.0       0.00000         0.0   \n",
              "1           156142      156142   5077849.0       0.00000   5077849.0   \n",
              "2                0           0         0.0       0.00000         0.0   \n",
              "3                0           0         0.0       0.00000         0.0   \n",
              "4                0           0         0.0       0.00000         0.0   \n",
              "...            ...         ...         ...           ...         ...   \n",
              "627380           0           0         0.0       0.00000         0.0   \n",
              "627381           0           0         0.0       0.00000         0.0   \n",
              "627382           0           0         0.0       0.00000         0.0   \n",
              "627383      840349      130557  58599500.5  387063.88806  58873196.0   \n",
              "627384           0           0         0.0       0.00000         0.0   \n",
              "\n",
              "          Idle Min  Label  \n",
              "0              0.0      0  \n",
              "1        5077849.0      0  \n",
              "2              0.0      0  \n",
              "3              0.0      0  \n",
              "4              0.0      0  \n",
              "...            ...    ...  \n",
              "627380         0.0      0  \n",
              "627381         0.0      0  \n",
              "627382         0.0      0  \n",
              "627383  58325805.0      0  \n",
              "627384         0.0      0  \n",
              "\n",
              "[627385 rows x 78 columns]"
            ],
            "text/html": [
              "\n",
              "  <div id=\"df-06171eb3-5181-4f85-ad9f-66aac6a6137d\" class=\"colab-df-container\">\n",
              "    <div>\n",
              "<style scoped>\n",
              "    .dataframe tbody tr th:only-of-type {\n",
              "        vertical-align: middle;\n",
              "    }\n",
              "\n",
              "    .dataframe tbody tr th {\n",
              "        vertical-align: top;\n",
              "    }\n",
              "\n",
              "    .dataframe thead th {\n",
              "        text-align: right;\n",
              "    }\n",
              "</style>\n",
              "<table border=\"1\" class=\"dataframe\">\n",
              "  <thead>\n",
              "    <tr style=\"text-align: right;\">\n",
              "      <th></th>\n",
              "      <th>Dst Port</th>\n",
              "      <th>Flow Duration</th>\n",
              "      <th>Tot Fwd Pkts</th>\n",
              "      <th>Tot Bwd Pkts</th>\n",
              "      <th>TotLen Fwd Pkts</th>\n",
              "      <th>TotLen Bwd Pkts</th>\n",
              "      <th>Fwd Pkt Len Max</th>\n",
              "      <th>Fwd Pkt Len Min</th>\n",
              "      <th>Fwd Pkt Len Mean</th>\n",
              "      <th>Fwd Pkt Len Std</th>\n",
              "      <th>...</th>\n",
              "      <th>Fwd Seg Size Min</th>\n",
              "      <th>Active Mean</th>\n",
              "      <th>Active Std</th>\n",
              "      <th>Active Max</th>\n",
              "      <th>Active Min</th>\n",
              "      <th>Idle Mean</th>\n",
              "      <th>Idle Std</th>\n",
              "      <th>Idle Max</th>\n",
              "      <th>Idle Min</th>\n",
              "      <th>Label</th>\n",
              "    </tr>\n",
              "  </thead>\n",
              "  <tbody>\n",
              "    <tr>\n",
              "      <th>0</th>\n",
              "      <td>80</td>\n",
              "      <td>5330563</td>\n",
              "      <td>4</td>\n",
              "      <td>4</td>\n",
              "      <td>1092.0</td>\n",
              "      <td>560.0</td>\n",
              "      <td>1080.0</td>\n",
              "      <td>0.0</td>\n",
              "      <td>273.000000</td>\n",
              "      <td>538.007435</td>\n",
              "      <td>...</td>\n",
              "      <td>20</td>\n",
              "      <td>0.0</td>\n",
              "      <td>0.000000</td>\n",
              "      <td>0</td>\n",
              "      <td>0</td>\n",
              "      <td>0.0</td>\n",
              "      <td>0.00000</td>\n",
              "      <td>0.0</td>\n",
              "      <td>0.0</td>\n",
              "      <td>0</td>\n",
              "    </tr>\n",
              "    <tr>\n",
              "      <th>1</th>\n",
              "      <td>443</td>\n",
              "      <td>5233994</td>\n",
              "      <td>6</td>\n",
              "      <td>4</td>\n",
              "      <td>611.0</td>\n",
              "      <td>168.0</td>\n",
              "      <td>517.0</td>\n",
              "      <td>0.0</td>\n",
              "      <td>101.833333</td>\n",
              "      <td>204.305082</td>\n",
              "      <td>...</td>\n",
              "      <td>20</td>\n",
              "      <td>156142.0</td>\n",
              "      <td>0.000000</td>\n",
              "      <td>156142</td>\n",
              "      <td>156142</td>\n",
              "      <td>5077849.0</td>\n",
              "      <td>0.00000</td>\n",
              "      <td>5077849.0</td>\n",
              "      <td>5077849.0</td>\n",
              "      <td>0</td>\n",
              "    </tr>\n",
              "    <tr>\n",
              "      <th>2</th>\n",
              "      <td>443</td>\n",
              "      <td>4200</td>\n",
              "      <td>3</td>\n",
              "      <td>0</td>\n",
              "      <td>43.0</td>\n",
              "      <td>0.0</td>\n",
              "      <td>31.0</td>\n",
              "      <td>6.0</td>\n",
              "      <td>14.333333</td>\n",
              "      <td>14.433757</td>\n",
              "      <td>...</td>\n",
              "      <td>20</td>\n",
              "      <td>0.0</td>\n",
              "      <td>0.000000</td>\n",
              "      <td>0</td>\n",
              "      <td>0</td>\n",
              "      <td>0.0</td>\n",
              "      <td>0.00000</td>\n",
              "      <td>0.0</td>\n",
              "      <td>0.0</td>\n",
              "      <td>0</td>\n",
              "    </tr>\n",
              "    <tr>\n",
              "      <th>3</th>\n",
              "      <td>53</td>\n",
              "      <td>196</td>\n",
              "      <td>2</td>\n",
              "      <td>2</td>\n",
              "      <td>102.0</td>\n",
              "      <td>224.0</td>\n",
              "      <td>51.0</td>\n",
              "      <td>51.0</td>\n",
              "      <td>51.000000</td>\n",
              "      <td>0.000000</td>\n",
              "      <td>...</td>\n",
              "      <td>20</td>\n",
              "      <td>0.0</td>\n",
              "      <td>0.000000</td>\n",
              "      <td>0</td>\n",
              "      <td>0</td>\n",
              "      <td>0.0</td>\n",
              "      <td>0.00000</td>\n",
              "      <td>0.0</td>\n",
              "      <td>0.0</td>\n",
              "      <td>0</td>\n",
              "    </tr>\n",
              "    <tr>\n",
              "      <th>4</th>\n",
              "      <td>49590</td>\n",
              "      <td>2</td>\n",
              "      <td>3</td>\n",
              "      <td>0</td>\n",
              "      <td>43.0</td>\n",
              "      <td>0.0</td>\n",
              "      <td>31.0</td>\n",
              "      <td>6.0</td>\n",
              "      <td>14.333333</td>\n",
              "      <td>14.433757</td>\n",
              "      <td>...</td>\n",
              "      <td>20</td>\n",
              "      <td>0.0</td>\n",
              "      <td>0.000000</td>\n",
              "      <td>0</td>\n",
              "      <td>0</td>\n",
              "      <td>0.0</td>\n",
              "      <td>0.00000</td>\n",
              "      <td>0.0</td>\n",
              "      <td>0.0</td>\n",
              "      <td>0</td>\n",
              "    </tr>\n",
              "    <tr>\n",
              "      <th>...</th>\n",
              "      <td>...</td>\n",
              "      <td>...</td>\n",
              "      <td>...</td>\n",
              "      <td>...</td>\n",
              "      <td>...</td>\n",
              "      <td>...</td>\n",
              "      <td>...</td>\n",
              "      <td>...</td>\n",
              "      <td>...</td>\n",
              "      <td>...</td>\n",
              "      <td>...</td>\n",
              "      <td>...</td>\n",
              "      <td>...</td>\n",
              "      <td>...</td>\n",
              "      <td>...</td>\n",
              "      <td>...</td>\n",
              "      <td>...</td>\n",
              "      <td>...</td>\n",
              "      <td>...</td>\n",
              "      <td>...</td>\n",
              "      <td>...</td>\n",
              "    </tr>\n",
              "    <tr>\n",
              "      <th>627380</th>\n",
              "      <td>443</td>\n",
              "      <td>10388444</td>\n",
              "      <td>5</td>\n",
              "      <td>4</td>\n",
              "      <td>580.0</td>\n",
              "      <td>164.0</td>\n",
              "      <td>517.0</td>\n",
              "      <td>0.0</td>\n",
              "      <td>116.000000</td>\n",
              "      <td>225.101088</td>\n",
              "      <td>...</td>\n",
              "      <td>20</td>\n",
              "      <td>0.0</td>\n",
              "      <td>0.000000</td>\n",
              "      <td>0</td>\n",
              "      <td>0</td>\n",
              "      <td>0.0</td>\n",
              "      <td>0.00000</td>\n",
              "      <td>0.0</td>\n",
              "      <td>0.0</td>\n",
              "      <td>0</td>\n",
              "    </tr>\n",
              "    <tr>\n",
              "      <th>627381</th>\n",
              "      <td>61838</td>\n",
              "      <td>3</td>\n",
              "      <td>2</td>\n",
              "      <td>0</td>\n",
              "      <td>37.0</td>\n",
              "      <td>0.0</td>\n",
              "      <td>31.0</td>\n",
              "      <td>6.0</td>\n",
              "      <td>18.500000</td>\n",
              "      <td>17.677670</td>\n",
              "      <td>...</td>\n",
              "      <td>20</td>\n",
              "      <td>0.0</td>\n",
              "      <td>0.000000</td>\n",
              "      <td>0</td>\n",
              "      <td>0</td>\n",
              "      <td>0.0</td>\n",
              "      <td>0.00000</td>\n",
              "      <td>0.0</td>\n",
              "      <td>0.0</td>\n",
              "      <td>0</td>\n",
              "    </tr>\n",
              "    <tr>\n",
              "      <th>627382</th>\n",
              "      <td>53</td>\n",
              "      <td>60940</td>\n",
              "      <td>1</td>\n",
              "      <td>1</td>\n",
              "      <td>43.0</td>\n",
              "      <td>113.0</td>\n",
              "      <td>43.0</td>\n",
              "      <td>43.0</td>\n",
              "      <td>43.000000</td>\n",
              "      <td>0.000000</td>\n",
              "      <td>...</td>\n",
              "      <td>32</td>\n",
              "      <td>0.0</td>\n",
              "      <td>0.000000</td>\n",
              "      <td>0</td>\n",
              "      <td>0</td>\n",
              "      <td>0.0</td>\n",
              "      <td>0.00000</td>\n",
              "      <td>0.0</td>\n",
              "      <td>0.0</td>\n",
              "      <td>0</td>\n",
              "    </tr>\n",
              "    <tr>\n",
              "      <th>627383</th>\n",
              "      <td>443</td>\n",
              "      <td>118257452</td>\n",
              "      <td>20</td>\n",
              "      <td>17</td>\n",
              "      <td>1042.0</td>\n",
              "      <td>5007.0</td>\n",
              "      <td>442.0</td>\n",
              "      <td>0.0</td>\n",
              "      <td>52.100000</td>\n",
              "      <td>108.083253</td>\n",
              "      <td>...</td>\n",
              "      <td>32</td>\n",
              "      <td>485453.0</td>\n",
              "      <td>501898.736432</td>\n",
              "      <td>840349</td>\n",
              "      <td>130557</td>\n",
              "      <td>58599500.5</td>\n",
              "      <td>387063.88806</td>\n",
              "      <td>58873196.0</td>\n",
              "      <td>58325805.0</td>\n",
              "      <td>0</td>\n",
              "    </tr>\n",
              "    <tr>\n",
              "      <th>627384</th>\n",
              "      <td>53</td>\n",
              "      <td>30300</td>\n",
              "      <td>1</td>\n",
              "      <td>1</td>\n",
              "      <td>50.0</td>\n",
              "      <td>111.0</td>\n",
              "      <td>50.0</td>\n",
              "      <td>50.0</td>\n",
              "      <td>50.000000</td>\n",
              "      <td>0.000000</td>\n",
              "      <td>...</td>\n",
              "      <td>32</td>\n",
              "      <td>0.0</td>\n",
              "      <td>0.000000</td>\n",
              "      <td>0</td>\n",
              "      <td>0</td>\n",
              "      <td>0.0</td>\n",
              "      <td>0.00000</td>\n",
              "      <td>0.0</td>\n",
              "      <td>0.0</td>\n",
              "      <td>0</td>\n",
              "    </tr>\n",
              "  </tbody>\n",
              "</table>\n",
              "<p>627385 rows × 78 columns</p>\n",
              "</div>\n",
              "    <div class=\"colab-df-buttons\">\n",
              "\n",
              "  <div class=\"colab-df-container\">\n",
              "    <button class=\"colab-df-convert\" onclick=\"convertToInteractive('df-06171eb3-5181-4f85-ad9f-66aac6a6137d')\"\n",
              "            title=\"Convert this dataframe to an interactive table.\"\n",
              "            style=\"display:none;\">\n",
              "\n",
              "  <svg xmlns=\"http://www.w3.org/2000/svg\" height=\"24px\" viewBox=\"0 -960 960 960\">\n",
              "    <path d=\"M120-120v-720h720v720H120Zm60-500h600v-160H180v160Zm220 220h160v-160H400v160Zm0 220h160v-160H400v160ZM180-400h160v-160H180v160Zm440 0h160v-160H620v160ZM180-180h160v-160H180v160Zm440 0h160v-160H620v160Z\"/>\n",
              "  </svg>\n",
              "    </button>\n",
              "\n",
              "  <style>\n",
              "    .colab-df-container {\n",
              "      display:flex;\n",
              "      gap: 12px;\n",
              "    }\n",
              "\n",
              "    .colab-df-convert {\n",
              "      background-color: #E8F0FE;\n",
              "      border: none;\n",
              "      border-radius: 50%;\n",
              "      cursor: pointer;\n",
              "      display: none;\n",
              "      fill: #1967D2;\n",
              "      height: 32px;\n",
              "      padding: 0 0 0 0;\n",
              "      width: 32px;\n",
              "    }\n",
              "\n",
              "    .colab-df-convert:hover {\n",
              "      background-color: #E2EBFA;\n",
              "      box-shadow: 0px 1px 2px rgba(60, 64, 67, 0.3), 0px 1px 3px 1px rgba(60, 64, 67, 0.15);\n",
              "      fill: #174EA6;\n",
              "    }\n",
              "\n",
              "    .colab-df-buttons div {\n",
              "      margin-bottom: 4px;\n",
              "    }\n",
              "\n",
              "    [theme=dark] .colab-df-convert {\n",
              "      background-color: #3B4455;\n",
              "      fill: #D2E3FC;\n",
              "    }\n",
              "\n",
              "    [theme=dark] .colab-df-convert:hover {\n",
              "      background-color: #434B5C;\n",
              "      box-shadow: 0px 1px 3px 1px rgba(0, 0, 0, 0.15);\n",
              "      filter: drop-shadow(0px 1px 2px rgba(0, 0, 0, 0.3));\n",
              "      fill: #FFFFFF;\n",
              "    }\n",
              "  </style>\n",
              "\n",
              "    <script>\n",
              "      const buttonEl =\n",
              "        document.querySelector('#df-06171eb3-5181-4f85-ad9f-66aac6a6137d button.colab-df-convert');\n",
              "      buttonEl.style.display =\n",
              "        google.colab.kernel.accessAllowed ? 'block' : 'none';\n",
              "\n",
              "      async function convertToInteractive(key) {\n",
              "        const element = document.querySelector('#df-06171eb3-5181-4f85-ad9f-66aac6a6137d');\n",
              "        const dataTable =\n",
              "          await google.colab.kernel.invokeFunction('convertToInteractive',\n",
              "                                                    [key], {});\n",
              "        if (!dataTable) return;\n",
              "\n",
              "        const docLinkHtml = 'Like what you see? Visit the ' +\n",
              "          '<a target=\"_blank\" href=https://colab.research.google.com/notebooks/data_table.ipynb>data table notebook</a>'\n",
              "          + ' to learn more about interactive tables.';\n",
              "        element.innerHTML = '';\n",
              "        dataTable['output_type'] = 'display_data';\n",
              "        await google.colab.output.renderOutput(dataTable, element);\n",
              "        const docLink = document.createElement('div');\n",
              "        docLink.innerHTML = docLinkHtml;\n",
              "        element.appendChild(docLink);\n",
              "      }\n",
              "    </script>\n",
              "  </div>\n",
              "\n",
              "\n",
              "    <div id=\"df-8302cb87-40bf-4d6b-8c27-28310f0a3454\">\n",
              "      <button class=\"colab-df-quickchart\" onclick=\"quickchart('df-8302cb87-40bf-4d6b-8c27-28310f0a3454')\"\n",
              "                title=\"Suggest charts\"\n",
              "                style=\"display:none;\">\n",
              "\n",
              "<svg xmlns=\"http://www.w3.org/2000/svg\" height=\"24px\"viewBox=\"0 0 24 24\"\n",
              "     width=\"24px\">\n",
              "    <g>\n",
              "        <path d=\"M19 3H5c-1.1 0-2 .9-2 2v14c0 1.1.9 2 2 2h14c1.1 0 2-.9 2-2V5c0-1.1-.9-2-2-2zM9 17H7v-7h2v7zm4 0h-2V7h2v10zm4 0h-2v-4h2v4z\"/>\n",
              "    </g>\n",
              "</svg>\n",
              "      </button>\n",
              "\n",
              "<style>\n",
              "  .colab-df-quickchart {\n",
              "      --bg-color: #E8F0FE;\n",
              "      --fill-color: #1967D2;\n",
              "      --hover-bg-color: #E2EBFA;\n",
              "      --hover-fill-color: #174EA6;\n",
              "      --disabled-fill-color: #AAA;\n",
              "      --disabled-bg-color: #DDD;\n",
              "  }\n",
              "\n",
              "  [theme=dark] .colab-df-quickchart {\n",
              "      --bg-color: #3B4455;\n",
              "      --fill-color: #D2E3FC;\n",
              "      --hover-bg-color: #434B5C;\n",
              "      --hover-fill-color: #FFFFFF;\n",
              "      --disabled-bg-color: #3B4455;\n",
              "      --disabled-fill-color: #666;\n",
              "  }\n",
              "\n",
              "  .colab-df-quickchart {\n",
              "    background-color: var(--bg-color);\n",
              "    border: none;\n",
              "    border-radius: 50%;\n",
              "    cursor: pointer;\n",
              "    display: none;\n",
              "    fill: var(--fill-color);\n",
              "    height: 32px;\n",
              "    padding: 0;\n",
              "    width: 32px;\n",
              "  }\n",
              "\n",
              "  .colab-df-quickchart:hover {\n",
              "    background-color: var(--hover-bg-color);\n",
              "    box-shadow: 0 1px 2px rgba(60, 64, 67, 0.3), 0 1px 3px 1px rgba(60, 64, 67, 0.15);\n",
              "    fill: var(--button-hover-fill-color);\n",
              "  }\n",
              "\n",
              "  .colab-df-quickchart-complete:disabled,\n",
              "  .colab-df-quickchart-complete:disabled:hover {\n",
              "    background-color: var(--disabled-bg-color);\n",
              "    fill: var(--disabled-fill-color);\n",
              "    box-shadow: none;\n",
              "  }\n",
              "\n",
              "  .colab-df-spinner {\n",
              "    border: 2px solid var(--fill-color);\n",
              "    border-color: transparent;\n",
              "    border-bottom-color: var(--fill-color);\n",
              "    animation:\n",
              "      spin 1s steps(1) infinite;\n",
              "  }\n",
              "\n",
              "  @keyframes spin {\n",
              "    0% {\n",
              "      border-color: transparent;\n",
              "      border-bottom-color: var(--fill-color);\n",
              "      border-left-color: var(--fill-color);\n",
              "    }\n",
              "    20% {\n",
              "      border-color: transparent;\n",
              "      border-left-color: var(--fill-color);\n",
              "      border-top-color: var(--fill-color);\n",
              "    }\n",
              "    30% {\n",
              "      border-color: transparent;\n",
              "      border-left-color: var(--fill-color);\n",
              "      border-top-color: var(--fill-color);\n",
              "      border-right-color: var(--fill-color);\n",
              "    }\n",
              "    40% {\n",
              "      border-color: transparent;\n",
              "      border-right-color: var(--fill-color);\n",
              "      border-top-color: var(--fill-color);\n",
              "    }\n",
              "    60% {\n",
              "      border-color: transparent;\n",
              "      border-right-color: var(--fill-color);\n",
              "    }\n",
              "    80% {\n",
              "      border-color: transparent;\n",
              "      border-right-color: var(--fill-color);\n",
              "      border-bottom-color: var(--fill-color);\n",
              "    }\n",
              "    90% {\n",
              "      border-color: transparent;\n",
              "      border-bottom-color: var(--fill-color);\n",
              "    }\n",
              "  }\n",
              "</style>\n",
              "\n",
              "      <script>\n",
              "        async function quickchart(key) {\n",
              "          const quickchartButtonEl =\n",
              "            document.querySelector('#' + key + ' button');\n",
              "          quickchartButtonEl.disabled = true;  // To prevent multiple clicks.\n",
              "          quickchartButtonEl.classList.add('colab-df-spinner');\n",
              "          try {\n",
              "            const charts = await google.colab.kernel.invokeFunction(\n",
              "                'suggestCharts', [key], {});\n",
              "          } catch (error) {\n",
              "            console.error('Error during call to suggestCharts:', error);\n",
              "          }\n",
              "          quickchartButtonEl.classList.remove('colab-df-spinner');\n",
              "          quickchartButtonEl.classList.add('colab-df-quickchart-complete');\n",
              "        }\n",
              "        (() => {\n",
              "          let quickchartButtonEl =\n",
              "            document.querySelector('#df-8302cb87-40bf-4d6b-8c27-28310f0a3454 button');\n",
              "          quickchartButtonEl.style.display =\n",
              "            google.colab.kernel.accessAllowed ? 'block' : 'none';\n",
              "        })();\n",
              "      </script>\n",
              "    </div>\n",
              "\n",
              "  <div id=\"id_81ab22d3-80ca-48a7-8b82-65fc5e8293a6\">\n",
              "    <style>\n",
              "      .colab-df-generate {\n",
              "        background-color: #E8F0FE;\n",
              "        border: none;\n",
              "        border-radius: 50%;\n",
              "        cursor: pointer;\n",
              "        display: none;\n",
              "        fill: #1967D2;\n",
              "        height: 32px;\n",
              "        padding: 0 0 0 0;\n",
              "        width: 32px;\n",
              "      }\n",
              "\n",
              "      .colab-df-generate:hover {\n",
              "        background-color: #E2EBFA;\n",
              "        box-shadow: 0px 1px 2px rgba(60, 64, 67, 0.3), 0px 1px 3px 1px rgba(60, 64, 67, 0.15);\n",
              "        fill: #174EA6;\n",
              "      }\n",
              "\n",
              "      [theme=dark] .colab-df-generate {\n",
              "        background-color: #3B4455;\n",
              "        fill: #D2E3FC;\n",
              "      }\n",
              "\n",
              "      [theme=dark] .colab-df-generate:hover {\n",
              "        background-color: #434B5C;\n",
              "        box-shadow: 0px 1px 3px 1px rgba(0, 0, 0, 0.15);\n",
              "        filter: drop-shadow(0px 1px 2px rgba(0, 0, 0, 0.3));\n",
              "        fill: #FFFFFF;\n",
              "      }\n",
              "    </style>\n",
              "    <button class=\"colab-df-generate\" onclick=\"generateWithVariable('CTU_all_scenarios')\"\n",
              "            title=\"Generate code using this dataframe.\"\n",
              "            style=\"display:none;\">\n",
              "\n",
              "  <svg xmlns=\"http://www.w3.org/2000/svg\" height=\"24px\"viewBox=\"0 0 24 24\"\n",
              "       width=\"24px\">\n",
              "    <path d=\"M7,19H8.4L18.45,9,17,7.55,7,17.6ZM5,21V16.75L18.45,3.32a2,2,0,0,1,2.83,0l1.4,1.43a1.91,1.91,0,0,1,.58,1.4,1.91,1.91,0,0,1-.58,1.4L9.25,21ZM18.45,9,17,7.55Zm-12,3A5.31,5.31,0,0,0,4.9,8.1,5.31,5.31,0,0,0,1,6.5,5.31,5.31,0,0,0,4.9,4.9,5.31,5.31,0,0,0,6.5,1,5.31,5.31,0,0,0,8.1,4.9,5.31,5.31,0,0,0,12,6.5,5.46,5.46,0,0,0,6.5,12Z\"/>\n",
              "  </svg>\n",
              "    </button>\n",
              "    <script>\n",
              "      (() => {\n",
              "      const buttonEl =\n",
              "        document.querySelector('#id_81ab22d3-80ca-48a7-8b82-65fc5e8293a6 button.colab-df-generate');\n",
              "      buttonEl.style.display =\n",
              "        google.colab.kernel.accessAllowed ? 'block' : 'none';\n",
              "\n",
              "      buttonEl.onclick = () => {\n",
              "        google.colab.notebook.generateWithVariable('CTU_all_scenarios');\n",
              "      }\n",
              "      })();\n",
              "    </script>\n",
              "  </div>\n",
              "\n",
              "    </div>\n",
              "  </div>\n"
            ],
            "application/vnd.google.colaboratory.intrinsic+json": {
              "type": "dataframe",
              "variable_name": "CTU_all_scenarios"
            }
          },
          "metadata": {}
        }
      ],
      "source": [
        "display(CTU_all_scenarios)"
      ]
    },
    {
      "cell_type": "code",
      "execution_count": null,
      "metadata": {
        "colab": {
          "base_uri": "https://localhost:8080/",
          "height": 400
        },
        "collapsed": true,
        "id": "lwLntQTxvDl8",
        "outputId": "075dea43-eb3a-4d79-9adf-0b185271d14f"
      },
      "outputs": [
        {
          "output_type": "stream",
          "name": "stdout",
          "text": [
            "156846 [0 1]\n",
            "156846 [0 1]\n",
            "156846 [0 1]\n",
            "156847 [0 1]\n",
            "Label\n",
            "0    132445\n",
            "1     24401\n",
            "Name: count, dtype: int64\n",
            "Label\n",
            "0    132652\n",
            "1     24194\n",
            "Name: count, dtype: int64\n",
            "Label\n",
            "0    132517\n",
            "1     24329\n",
            "Name: count, dtype: int64\n",
            "Label\n",
            "0    132304\n",
            "1     24543\n",
            "Name: count, dtype: int64\n"
          ]
        },
        {
          "output_type": "execute_result",
          "data": {
            "text/plain": [
              "\"\\nprint(len(CTU_benign_scenarios_train), np.unique(CTU_benign_scenarios_train['Label']))\\nprint(len(CTU_all_bot_scenarios_test), np.unique(CTU_all_bot_scenarios_test['Label']))\\n\\ny_CTU_benign_scenarios_train = CTU_benign_scenarios_train['Label']\\nX_CTU_benign_scenarios_train = CTU_benign_scenarios_train.drop('Label', axis=1)\\nX_CTU_benign_scenarios_train = X_CTU_benign_scenarios_train.apply(lambda x: np.nan_to_num(x))\\n\""
            ],
            "application/vnd.google.colaboratory.intrinsic+json": {
              "type": "string"
            }
          },
          "metadata": {},
          "execution_count": 5
        }
      ],
      "source": [
        "#@title Separando o all_bening para os dois devices CTU\n",
        "porcentagem = 0.25\n",
        "split_index = int(len(CTU_all_scenarios) * porcentagem)\n",
        "\n",
        "CTU_all_scenarios_1, CTU_all_scenarios_2, CTU_all_scenarios_3, CTU_all_scenarios_4 = CTU_all_scenarios[:split_index] , CTU_all_scenarios[split_index:2*split_index] , CTU_all_scenarios[2*split_index:3*split_index], CTU_all_scenarios[3*split_index:]\n",
        "CTU_server_fit = CTU_all_scenarios_1[:int(0.2*len(CTU_all_scenarios_1))]\n",
        "CTU_testes = CTU_all_scenarios[:2*split_index]\n",
        "\n",
        "print(len(CTU_all_scenarios_1), np.unique(CTU_all_scenarios_1['Label']))\n",
        "print(len(CTU_all_scenarios_2), np.unique(CTU_all_scenarios_2['Label']))\n",
        "print(len(CTU_all_scenarios_3), np.unique(CTU_all_scenarios_3['Label']))\n",
        "print(len(CTU_all_scenarios_4), np.unique(CTU_all_scenarios_4['Label']))\n",
        "print(CTU_all_scenarios_1['Label'].value_counts())\n",
        "print(CTU_all_scenarios_2['Label'].value_counts())\n",
        "print(CTU_all_scenarios_3['Label'].value_counts())\n",
        "print(CTU_all_scenarios_4['Label'].value_counts())\n",
        "\n",
        "y_CTU_all_scenarios_1 = CTU_all_scenarios_1['Label']\n",
        "X_CTU_all_scenarios_1 = CTU_all_scenarios_1.drop('Label', axis=1)\n",
        "X_CTU_all_scenarios_1 = X_CTU_all_scenarios_1.apply(lambda x: np.nan_to_num(x))\n",
        "\n",
        "y_CTU_all_scenarios_2 = CTU_all_scenarios_2['Label']\n",
        "X_CTU_all_scenarios_2 = CTU_all_scenarios_2.drop('Label', axis=1)\n",
        "X_CTU_all_scenarios_2 = X_CTU_all_scenarios_2.apply(lambda x: np.nan_to_num(x))\n",
        "\n",
        "y_CTU_all_scenarios_3 = CTU_all_scenarios_3['Label']\n",
        "X_CTU_all_scenarios_3 = CTU_all_scenarios_3.drop('Label', axis=1)\n",
        "X_CTU_all_scenarios_3 = X_CTU_all_scenarios_3.apply(lambda x: np.nan_to_num(x))\n",
        "\n",
        "y_CTU_all_scenarios_4 = CTU_all_scenarios_4['Label']\n",
        "X_CTU_all_scenarios_4 = CTU_all_scenarios_4.drop('Label', axis=1)\n",
        "X_CTU_all_scenarios_4 = X_CTU_all_scenarios_4.apply(lambda x: np.nan_to_num(x))\n",
        "\n",
        "y_CTU_testes = CTU_testes['Label']\n",
        "X_CTU_testes = CTU_testes.drop('Label', axis=1)\n",
        "X_CTU_testes = X_CTU_testes.apply(lambda x: np.nan_to_num(x))\n",
        "\n",
        "y_CTU_server_fit = CTU_server_fit['Label']\n",
        "X_CTU_server_fit = CTU_server_fit.drop('Label', axis=1)\n",
        "X_CTU_server_fit = X_CTU_server_fit.apply(lambda x: np.nan_to_num(x))\n",
        "\n",
        "'''\n",
        "print(len(CTU_benign_scenarios_train), np.unique(CTU_benign_scenarios_train['Label']))\n",
        "print(len(CTU_all_bot_scenarios_test), np.unique(CTU_all_bot_scenarios_test['Label']))\n",
        "\n",
        "y_CTU_benign_scenarios_train = CTU_benign_scenarios_train['Label']\n",
        "X_CTU_benign_scenarios_train = CTU_benign_scenarios_train.drop('Label', axis=1)\n",
        "X_CTU_benign_scenarios_train = X_CTU_benign_scenarios_train.apply(lambda x: np.nan_to_num(x))\n",
        "'''"
      ]
    },
    {
      "cell_type": "code",
      "execution_count": null,
      "metadata": {
        "colab": {
          "base_uri": "https://localhost:8080/"
        },
        "collapsed": true,
        "id": "F1-2M4a9es8H",
        "outputId": "16e52408-295a-41f8-b435-e669749124e8"
      },
      "outputs": [
        {
          "output_type": "stream",
          "name": "stdout",
          "text": [
            "110802 [0 1]\n",
            "110802 [0 1]\n",
            "110802 [0 1]\n",
            "110805 [0 1]\n",
            "Label\n",
            "1    91465\n",
            "0    19337\n",
            "Name: count, dtype: int64\n",
            "Label\n",
            "1    91775\n",
            "0    19027\n",
            "Name: count, dtype: int64\n",
            "Label\n",
            "1    91676\n",
            "0    19126\n",
            "Name: count, dtype: int64\n",
            "Label\n",
            "1    91817\n",
            "0    18988\n",
            "Name: count, dtype: int64\n"
          ]
        }
      ],
      "source": [
        "#@title Separando o all_bening para os dois devices ISOT\n",
        "porcentagem = 0.25\n",
        "split_index = int(len(isot_HTTP_all) * porcentagem)\n",
        "\n",
        "isot_HTTP_all_1, isot_HTTP_all_2, isot_HTTP_all_3, isot_HTTP_all_4 = isot_HTTP_all[:split_index] , isot_HTTP_all[split_index:2*split_index] , isot_HTTP_all[2*split_index:3*split_index], isot_HTTP_all[3*split_index:]\n",
        "isot_server_fit = isot_HTTP_all_1[:int(0.2*len(isot_HTTP_all_1))]\n",
        "isot_HTTP_testes = isot_HTTP_all[:2*split_index]\n",
        "\n",
        "print(len(isot_HTTP_all_1), np.unique(isot_HTTP_all_1['Label']))\n",
        "print(len(isot_HTTP_all_2), np.unique(isot_HTTP_all_2['Label']))\n",
        "print(len(isot_HTTP_all_3), np.unique(isot_HTTP_all_3['Label']))\n",
        "print(len(isot_HTTP_all_4), np.unique(isot_HTTP_all_4['Label']))\n",
        "print(isot_HTTP_all_1['Label'].value_counts())\n",
        "print(isot_HTTP_all_2['Label'].value_counts())\n",
        "print(isot_HTTP_all_3['Label'].value_counts())\n",
        "print(isot_HTTP_all_4['Label'].value_counts())\n",
        "\n",
        "y_isot_server_fit = isot_server_fit['Label']\n",
        "X_isot_server_fit = isot_server_fit.drop('Label', axis=1)\n",
        "X_isot_server_fit = X_isot_server_fit.apply(lambda x: np.nan_to_num(x))\n",
        "\n",
        "y_isot_HTTP_all_1 = isot_HTTP_all_1['Label']\n",
        "X_isot_HTTP_all_1 = isot_HTTP_all_1.drop('Label', axis=1)\n",
        "X_isot_HTTP_all_1 = X_isot_HTTP_all_1.apply(lambda x: np.nan_to_num(x))\n",
        "\n",
        "y_isot_HTTP_all_2 = isot_HTTP_all_2['Label']\n",
        "X_isot_HTTP_all_2 = isot_HTTP_all_2.drop('Label', axis=1)\n",
        "X_isot_HTTP_all_2 = X_isot_HTTP_all_2.apply(lambda x: np.nan_to_num(x))\n",
        "\n",
        "y_isot_HTTP_all_3 = isot_HTTP_all_3['Label']\n",
        "X_isot_HTTP_all_3 = isot_HTTP_all_3.drop('Label', axis=1)\n",
        "X_isot_HTTP_all_3 = X_isot_HTTP_all_3.apply(lambda x: np.nan_to_num(x))\n",
        "\n",
        "y_isot_HTTP_all_4 = isot_HTTP_all_4['Label']\n",
        "X_isot_HTTP_all_4 = isot_HTTP_all_4.drop('Label', axis=1)\n",
        "X_isot_HTTP_all_4 = X_isot_HTTP_all_4.apply(lambda x: np.nan_to_num(x))\n",
        "\n",
        "y_isot_HTTP_testes = isot_HTTP_testes['Label']\n",
        "X_isot_HTTP_testes = isot_HTTP_testes.drop('Label', axis=1)\n",
        "X_isot_HTTP_testes = X_isot_HTTP_testes.apply(lambda x: np.nan_to_num(x))\n"
      ]
    },
    {
      "cell_type": "code",
      "execution_count": null,
      "metadata": {
        "colab": {
          "base_uri": "https://localhost:8080/"
        },
        "collapsed": true,
        "id": "_h_v-mB75arI",
        "outputId": "02e17c3b-b548-459d-d4ab-87590ca9f7e7"
      },
      "outputs": [
        {
          "output_type": "stream",
          "name": "stdout",
          "text": [
            "39211 [0 1]\n",
            "117635 [0 1]\n",
            "156 [0 1]\n",
            "156690 [0 1]\n",
            "117634 [0 1]\n",
            "39212 [0 1]\n",
            "156 [0 1]\n",
            "156691 [0 1]\n",
            "Label\n",
            "0    33111\n",
            "1     6100\n",
            "Name: count, dtype: int64\n",
            "Label\n",
            "0    132\n",
            "1     24\n",
            "Name: count, dtype: int64\n",
            "Label\n",
            "0    99387\n",
            "1    18247\n",
            "Name: count, dtype: int64\n",
            "Label\n",
            "0    132\n",
            "1     24\n",
            "Name: count, dtype: int64\n",
            "Label\n",
            "0    99334\n",
            "1    18301\n",
            "Name: count, dtype: int64\n",
            "Label\n",
            "0    132520\n",
            "1     24170\n",
            "Name: count, dtype: int64\n",
            "Label\n",
            "0    33130\n",
            "1     6082\n",
            "Name: count, dtype: int64\n",
            "Label\n",
            "0    132172\n",
            "1     24519\n",
            "Name: count, dtype: int64\n"
          ]
        }
      ],
      "source": [
        "#@title separando labels para o treino e teste CTU\n",
        "\n",
        "from sklearn.model_selection import train_test_split\n",
        "\n",
        "X_CTU_all_train_1, X_CTU_all_test_1, y_CTU_all_train_1, y_CTU_all_test_1 = train_test_split(X_CTU_all_scenarios_1, y_CTU_all_scenarios_1, test_size=0.75, random_state=42, stratify=y_CTU_all_scenarios_1)\n",
        "X_CTU_all_train_2, X_CTU_all_test_2, y_CTU_all_train_2, y_CTU_all_test_2 = train_test_split(X_CTU_all_scenarios_2, y_CTU_all_scenarios_2, test_size=0.999, random_state=42, stratify=y_CTU_all_scenarios_2)\n",
        "X_CTU_all_train_3, X_CTU_all_test_3, y_CTU_all_train_3, y_CTU_all_test_3 = train_test_split(X_CTU_all_scenarios_3, y_CTU_all_scenarios_3, test_size=0.25, random_state=42, stratify=y_CTU_all_scenarios_3)\n",
        "X_CTU_all_train_4, X_CTU_all_test_4, y_CTU_all_train_4, y_CTU_all_test_4 = train_test_split(X_CTU_all_scenarios_4, y_CTU_all_scenarios_4, test_size=0.999, random_state=42, stratify=y_CTU_all_scenarios_4)\n",
        "\n",
        "print(len(X_CTU_all_train_1), np.unique(y_CTU_all_train_1))\n",
        "print(len(X_CTU_all_test_1), np.unique(y_CTU_all_test_1))\n",
        "\n",
        "print(len(X_CTU_all_train_2), np.unique(y_CTU_all_train_2))\n",
        "print(len(X_CTU_all_test_2), np.unique(y_CTU_all_test_2))\n",
        "\n",
        "print(len(X_CTU_all_train_3), np.unique(y_CTU_all_train_3))\n",
        "print(len(X_CTU_all_test_3), np.unique(y_CTU_all_test_3))\n",
        "\n",
        "print(len(X_CTU_all_train_4), np.unique(y_CTU_all_train_4))\n",
        "print(len(X_CTU_all_test_4), np.unique(y_CTU_all_test_4))\n",
        "\n",
        "print(y_CTU_all_train_1.value_counts())\n",
        "print(y_CTU_all_train_2.value_counts())\n",
        "print(y_CTU_all_train_3.value_counts())\n",
        "print(y_CTU_all_train_4.value_counts())\n",
        "\n",
        "print(y_CTU_all_test_1.value_counts())\n",
        "print(y_CTU_all_test_2.value_counts())\n",
        "print(y_CTU_all_test_3.value_counts())\n",
        "print(y_CTU_all_test_4.value_counts())\n",
        "\n",
        "training_data_CTU   = [X_CTU_all_train_1, X_CTU_all_train_2,X_CTU_all_scenarios_3,X_CTU_all_scenarios_4]\n",
        "training_labels_CTU = [y_CTU_all_train_1, y_CTU_all_train_2,y_CTU_all_scenarios_3,y_CTU_all_scenarios_4]\n",
        "\n",
        "testing_data_CTU   = [X_CTU_all_test_1, X_CTU_all_test_2,X_CTU_all_test_3,X_CTU_all_test_4]\n",
        "testing_labels_CTU = [y_CTU_all_test_1, y_CTU_all_test_2,y_CTU_all_test_3,y_CTU_all_test_4]\n"
      ]
    },
    {
      "cell_type": "code",
      "execution_count": null,
      "metadata": {
        "colab": {
          "base_uri": "https://localhost:8080/"
        },
        "collapsed": true,
        "id": "ZCdh4S_mfi94",
        "outputId": "0dd31c8a-697d-4aed-e80e-3ad86a062c91"
      },
      "outputs": [
        {
          "output_type": "stream",
          "name": "stdout",
          "text": [
            "27700 [0 1]\n",
            "83102 [0 1]\n",
            "110 [0 1]\n",
            "110692 [0 1]\n",
            "83101 [0 1]\n",
            "27701 [0 1]\n",
            "110 [0 1]\n",
            "110695 [0 1]\n",
            "Label\n",
            "1    22866\n",
            "0     4834\n",
            "Name: count, dtype: int64\n",
            "Label\n",
            "1    91\n",
            "0    19\n",
            "Name: count, dtype: int64\n",
            "Label\n",
            "1    68757\n",
            "0    14344\n",
            "Name: count, dtype: int64\n",
            "Label\n",
            "1    91\n",
            "0    19\n",
            "Name: count, dtype: int64\n",
            "Label\n",
            "1    68599\n",
            "0    14503\n",
            "Name: count, dtype: int64\n",
            "Label\n",
            "1    91684\n",
            "0    19008\n",
            "Name: count, dtype: int64\n",
            "Label\n",
            "1    22919\n",
            "0     4782\n",
            "Name: count, dtype: int64\n",
            "Label\n",
            "1    91726\n",
            "0    18969\n",
            "Name: count, dtype: int64\n"
          ]
        }
      ],
      "source": [
        "#@title separando labels para o treino e teste ISOT\n",
        "\n",
        "from sklearn.model_selection import train_test_split\n",
        "\n",
        "X_isot_all_train_1, X_isot_all_test_1, y_isot_all_train_1, y_isot_all_test_1 = train_test_split(X_isot_HTTP_all_1, y_isot_HTTP_all_1, test_size=0.75, random_state=42, stratify=y_isot_HTTP_all_1)\n",
        "X_isot_all_train_2, X_isot_all_test_2, y_isot_all_train_2, y_isot_all_test_2 = train_test_split(X_isot_HTTP_all_2, y_isot_HTTP_all_2, test_size=0.999, random_state=42, stratify=y_isot_HTTP_all_2)\n",
        "X_isot_all_train_3, X_isot_all_test_3, y_isot_all_train_3, y_isot_all_test_3 = train_test_split(X_isot_HTTP_all_3, y_isot_HTTP_all_3, test_size=0.25, random_state=42, stratify=y_isot_HTTP_all_3)\n",
        "X_isot_all_train_4, X_isot_all_test_4, y_isot_all_train_4, y_isot_all_test_4 = train_test_split(X_isot_HTTP_all_4, y_isot_HTTP_all_4, test_size=0.999, random_state=42, stratify=y_isot_HTTP_all_4)\n",
        "\n",
        "print(len(X_isot_all_train_1), np.unique(y_isot_all_train_1))\n",
        "print(len(X_isot_all_test_1), np.unique(y_isot_all_test_1))\n",
        "\n",
        "print(len(X_isot_all_train_2), np.unique(y_isot_all_train_2))\n",
        "print(len(X_isot_all_test_2), np.unique(y_isot_all_test_2))\n",
        "\n",
        "print(len(X_isot_all_train_3), np.unique(y_isot_all_train_3))\n",
        "print(len(X_isot_all_test_3), np.unique(y_isot_all_test_3))\n",
        "\n",
        "print(len(X_isot_all_train_4), np.unique(y_isot_all_train_4))\n",
        "print(len(X_isot_all_test_4), np.unique(y_isot_all_test_4))\n",
        "\n",
        "print(y_isot_all_train_1.value_counts())\n",
        "print(y_isot_all_train_2.value_counts())\n",
        "print(y_isot_all_train_3.value_counts())\n",
        "print(y_isot_all_train_4.value_counts())\n",
        "\n",
        "print(y_isot_all_test_1.value_counts())\n",
        "print(y_isot_all_test_2.value_counts())\n",
        "print(y_isot_all_test_3.value_counts())\n",
        "print(y_isot_all_test_4.value_counts())\n",
        "\n",
        "training_data_isot = [X_isot_all_train_1, X_isot_all_train_2,X_isot_HTTP_all_3,X_isot_HTTP_all_4]\n",
        "training_labels_isot = [y_isot_all_train_1, y_isot_all_train_2,y_isot_HTTP_all_3,y_isot_HTTP_all_4]\n",
        "\n",
        "testing_data_isot = [X_isot_all_test_1, X_isot_all_test_2,X_isot_HTTP_all_3,X_isot_HTTP_all_4]\n",
        "testing_labels_isot = [y_isot_all_test_1, y_isot_all_test_2,y_isot_HTTP_all_3,y_isot_HTTP_all_4]\n"
      ]
    },
    {
      "cell_type": "code",
      "execution_count": null,
      "metadata": {
        "colab": {
          "base_uri": "https://localhost:8080/"
        },
        "id": "vPh87nYe5c7R",
        "outputId": "a377cf8f-085b-48e0-af85-7027985b0b53",
        "cellView": "form"
      },
      "outputs": [
        {
          "output_type": "stream",
          "name": "stdout",
          "text": [
            "Pesos: [np.float64(0.3090210098482346), np.float64(0.2847969911106261), np.float64(0.26247188236651026), np.float64(0.06552218970939454), np.float64(0.04356375921981721), np.float64(0.028964250520005178), 0.01]\n",
            "Pesos: [np.float64(0.7290879223493065), np.float64(0.7271082163411295), np.float64(0.7251194977898231), np.float64(0.6899744811276125), np.float64(0.679178699175393), np.float64(0.6681877721681662), 0.01]\n"
          ]
        }
      ],
      "source": [
        "#@title Calcular pesos ( Tem 2 tipos )\n",
        "\n",
        "import numpy as np\n",
        "\n",
        "# pesos = 1 / (1 + exp(-alpha * (F1_score - F1_score_min)))\n",
        "def normalização_Logistica(f1_scores, alpha=3.0, f1_limite=0.6, w_min=0.01):\n",
        "  f1_min, f1_max = min(f1_scores), max(f1_scores)\n",
        "  pesos = [1 / (1 + np.exp(-alpha * (f - f1_min))) for f in f1_scores]\n",
        "\n",
        "  # Ajustar dispositivos com F1 muito baixo\n",
        "  for i, f1 in enumerate(f1_scores):\n",
        "        if f1 < f1_limite * f1_max:\n",
        "            pesos[i] = w_min\n",
        "\n",
        "  # Recalibrar os pesos para somar 1\n",
        "  soma_pesos = sum(pesos)\n",
        "  pesos = [p / soma_pesos for p in pesos]\n",
        "\n",
        "  return pesos\n",
        "\n",
        "def calcular_pesos(f1_scores, alpha=4.0, f1_limite=0.6, w_min=0.01):\n",
        "    # Normalizar F1-scores\n",
        "    f1_min, f1_max = min(f1_scores), max(f1_scores)\n",
        "    f1_normalizados = [(f - f1_min) / (f1_max - f1_min) for f in f1_scores]\n",
        "\n",
        "    # Aplicar suavização exponencial (softmax) para scores proximos\n",
        "    # peso = exp(alpha * F1_score) / soma_exp_F1_score\n",
        "    exp_scores = [np.exp(alpha * f) for f in f1_normalizados]\n",
        "    total_exp = sum(exp_scores)\n",
        "    pesos = [e / total_exp for e in exp_scores]\n",
        "\n",
        "    # Ajustar dispositivos com F1 muito baixo\n",
        "    for i, f1 in enumerate(f1_scores):\n",
        "        if f1 < f1_limite * f1_max:\n",
        "            pesos[i] = w_min\n",
        "\n",
        "    # Recalibrar os pesos para somar 1\n",
        "    #soma_pesos = sum(pesos)\n",
        "    #pesos = [p / soma_pesos for p in pesos]\n",
        "\n",
        "    return pesos\n",
        "\n",
        "def peso_normalizado(f1_scores,f1_limite=0.6, w_min=0.01):\n",
        "  pesos = [1 / (1 + np.exp(-f)) for f in f1_scores]\n",
        "  f1_max = max(f1_scores)\n",
        "\n",
        "  for i, f1 in enumerate(f1_scores):\n",
        "        if f1 < f1_limite * f1_max:\n",
        "            pesos[i] = w_min\n",
        "  return pesos\n",
        "\n",
        "\n",
        "# Exemplo de uso\n",
        "f1_scores = [0.99, 0.98, 0.97, 0.80, 0.75, 0.70, 0.50]\n",
        "pesos = calcular_pesos(f1_scores)\n",
        "print(\"Pesos:\", pesos)\n",
        "#diferenca1 = [pesos[i] - pesos[i+1] for i in range(len(pesos)-1)]\n",
        "#print('deiferença: ', diferenca1)\n",
        "#pesos = normalização_Logistica(f1_scores)\n",
        "#print(\"Pesos:\", pesos)\n",
        "#diferenca1 = [pesos[i] - pesos[i+1] for i in range(len(pesos)-1)]\n",
        "#print('deiferença: ', diferenca1)\n",
        "pesos = peso_normalizado(f1_scores)\n",
        "print(\"Pesos:\", pesos)\n"
      ]
    },
    {
      "cell_type": "code",
      "source": [
        "#@title Servidor de agregação\n",
        "\n",
        "class ServerEFC:\n",
        "    def __init__(self, ff,n_devices):\n",
        "      self.clf = EnergyBasedFlowClassifier(cutoff_quantile = 0.95)\n",
        "      self.clf.fit(ff[0],ff[1])\n",
        "      self.devices = n_devices\n",
        "      self.global_model = None\n",
        "      self.global_fields = None\n",
        "\n",
        "    def predict(self, X):\n",
        "      X = X.apply(lambda x: np.nan_to_num(x))\n",
        "      return self.clf.predict(X, return_energies=True)\n",
        "\n",
        "    def fit(self, X, y, base_class = \"BENIGN\"):\n",
        "      self.clf.fit(X, y, base_class=base_class)\n",
        "      return self.clf\n",
        "\n",
        "    def agregar_modelo_ponderado(self,data,locais,soma_pesos):\n",
        "      if len(data) == 0 or len(locais) == 0:\n",
        "            raise ValueError(\"Os dados locais não podem estar vazios\")\n",
        "\n",
        "      data = np.array(data)\n",
        "      locais = np.array(locais)\n",
        "\n",
        "      # Média das matrizes de acoplamento\n",
        "      self.global_model = np.sum(data, axis = 0) / soma_pesos\n",
        "\n",
        "      # Média dos vetores de campos locais\n",
        "      self.global_fields = np.sum(locais, axis = 0) / soma_pesos\n",
        "\n",
        "      # Atualiza o modelo global\n",
        "      self.clf.estimators_[0].coupling_matrix_ = self.global_model\n",
        "      self.clf.estimators_[0].local_field_ = self.global_fields\n",
        "\n",
        "      return self.global_model, self.global_fields\n",
        "\n",
        "    def Agregar_treinamento_media_aritmetica(self, data, locais):\n",
        "\n",
        "      if len(data) == 0 or len(locais) == 0:\n",
        "              raise ValueError(\"Os dados locais não podem estar vazios\")\n",
        "\n",
        "      data = np.array(data)\n",
        "      locais = np.array(locais)\n",
        "\n",
        "      # Média das matrizes de acoplamento\n",
        "      self.global_model = np.mean(data, axis=0)\n",
        "\n",
        "      # Média dos vetores de campos locais\n",
        "      self.global_fields = np.mean(locais, axis=0)\n",
        "\n",
        "      # Atualiza o modelo global\n",
        "      self.clf.estimators_[0].coupling_matrix_ = self.global_model\n",
        "      self.clf.estimators_[0].local_field_ = self.global_fields\n",
        "\n",
        "      return self.global_model, self.global_fields\n",
        "\n",
        "    # Baseline: Previsão sempre como 'BENIGN'\n",
        "    def baseline_benign(self, X, base_line = 'BENIGN'):\n",
        "      return [base_line] * len(X)\n",
        "\n",
        "    # Baseline: Classificação aleatória entre as classes\n",
        "    def baseline_random(self, X, classes):\n",
        "      return [choice(classes) for _ in range(len(X))]\n"
      ],
      "metadata": {
        "id": "bjZ7AKWKpf6j"
      },
      "execution_count": null,
      "outputs": []
    },
    {
      "cell_type": "code",
      "execution_count": null,
      "metadata": {
        "id": "AlFNos6E5fcY"
      },
      "outputs": [],
      "source": [
        "#@title classe EFC\n",
        "\n",
        "from efc import EnergyBasedFlowClassifier\n",
        "from sklearn.metrics import f1_score\n",
        "from random import choice\n",
        "\n",
        "class EfcModel:\n",
        "  def __init__(self):\n",
        "    #self.peso = peso\n",
        "    self.clf = EnergyBasedFlowClassifier(cutoff_quantile=0.95)\n",
        "\n",
        "\n",
        "  def predict(self, X):\n",
        "    X = X.apply(lambda x: np.nan_to_num(x))\n",
        "    return self.clf.predict(X, return_energies=True)\n",
        "\n",
        "  def fit(self, X, y, base_class = \"BENIGN\"):\n",
        "    self.clf.fit(X, y, base_class=base_class)\n",
        "    return self.clf\n",
        "\n"
      ]
    },
    {
      "cell_type": "code",
      "execution_count": null,
      "metadata": {
        "colab": {
          "base_uri": "https://localhost:8080/"
        },
        "id": "D_Zvq8PH5r6f",
        "outputId": "2e6cc99b-b969-466e-aaea-0d1516f45ed5"
      },
      "outputs": [
        {
          "output_type": "execute_result",
          "data": {
            "text/plain": [
              "[EnergyBasedFlowClassifier(),\n",
              " EnergyBasedFlowClassifier(),\n",
              " EnergyBasedFlowClassifier(),\n",
              " EnergyBasedFlowClassifier()]"
            ]
          },
          "metadata": {},
          "execution_count": 61
        }
      ],
      "source": [
        "#@title treinando os devices\n",
        "n_devices = 4\n",
        "\n",
        "devices_CTU = [EfcModel() for _ in range(n_devices)]\n",
        "devices_isot = [EfcModel() for _ in range(n_devices)]\n",
        "\n",
        "server_CTU = ServerEFC([X_CTU_server_fit,y_CTU_server_fit],n_devices)\n",
        "server_isot = ServerEFC([X_isot_server_fit,y_isot_server_fit],n_devices)\n",
        "\n",
        "[devices_CTU[i].fit(training_data_CTU[i],training_labels_CTU[i], base_class = 0) for i in range(n_devices)]\n",
        "[devices_isot[i].fit(training_data_isot[i],training_labels_isot[i], base_class = 0) for i in range(n_devices)]\n"
      ]
    },
    {
      "cell_type": "code",
      "execution_count": null,
      "metadata": {
        "colab": {
          "base_uri": "https://localhost:8080/",
          "height": 156
        },
        "id": "1pv3gcIM5unz",
        "outputId": "6e19fa46-39e6-4bf0-92d9-3714ac13d3ed"
      },
      "outputs": [
        {
          "output_type": "display_data",
          "data": {
            "text/plain": [
              "array([0, 1])"
            ]
          },
          "metadata": {}
        },
        {
          "output_type": "display_data",
          "data": {
            "text/plain": [
              "array([0, 1])"
            ]
          },
          "metadata": {}
        },
        {
          "output_type": "display_data",
          "data": {
            "text/plain": [
              "array([0, 1])"
            ]
          },
          "metadata": {}
        },
        {
          "output_type": "display_data",
          "data": {
            "text/plain": [
              "array([0, 1])"
            ]
          },
          "metadata": {}
        },
        {
          "output_type": "display_data",
          "data": {
            "text/plain": [
              "array([0, 1])"
            ]
          },
          "metadata": {}
        },
        {
          "output_type": "display_data",
          "data": {
            "text/plain": [
              "array([0, 1])"
            ]
          },
          "metadata": {}
        },
        {
          "output_type": "display_data",
          "data": {
            "text/plain": [
              "array([0, 1])"
            ]
          },
          "metadata": {}
        },
        {
          "output_type": "display_data",
          "data": {
            "text/plain": [
              "array([0, 1])"
            ]
          },
          "metadata": {}
        }
      ],
      "source": [
        "#@title Fazer previsões para cada dispositivo usando um dataset diferente\n",
        "\n",
        "#data_for_predict = X_CTU_all_scenarios\n",
        "\n",
        "#predictions_CTU, y_energies_CTU = zip(*[devices_CTU[i].predict(X_CTU_all_scenarios) for i in range(n_devices)])\n",
        "#predictions_isot, y_energies_isot = zip(*[devices_isot[i].predict(X_isot_HTTP_all) for i in range(n_devices)])\n",
        "\n",
        "predictions_CTU_1, y_energies_CTU_1 = devices_CTU[0].predict(testing_data_CTU[0])\n",
        "predictions_CTU_2, y_energies_CTU_2 = devices_CTU[1].predict(testing_data_CTU[1])\n",
        "predictions_CTU_3, y_energies_CTU_3 = devices_CTU[2].predict(testing_data_CTU[2])\n",
        "predictions_CTU_4, y_energies_CTU_4 = devices_CTU[3].predict(testing_data_CTU[3])\n",
        "\n",
        "predictions_isot_1,y_energies_isot_1 = devices_isot[0].predict(testing_data_isot[0])\n",
        "predictions_isot_2,y_energies_isot_2 = devices_isot[1].predict(testing_data_isot[1])\n",
        "predictions_isot_3,y_energies_isot_3 = devices_isot[2].predict(testing_data_isot[2])\n",
        "predictions_isot_4,y_energies_isot_4 = devices_isot[3].predict(testing_data_isot[3])\n",
        "\n",
        "'''\n",
        "[predictions_CTU.append(devices_CTU[i].predict(X_CTU_all_scenarios)) for i in range(n_devices)]\n",
        "[predictions_isot.append(devices_isot[1].predict(X_isot_HTTP_all)) for i in range(n_devices)]\n",
        " '''\n",
        "display(np.unique(predictions_CTU_1))\n",
        "display(np.unique(predictions_CTU_2))\n",
        "display(np.unique(predictions_CTU_3))\n",
        "display(np.unique(predictions_CTU_4))\n",
        "\n",
        "display(np.unique(predictions_isot_1))\n",
        "display(np.unique(predictions_isot_2))\n",
        "display(np.unique(predictions_isot_3))\n",
        "display(np.unique(predictions_isot_4))\n"
      ]
    },
    {
      "cell_type": "code",
      "source": [
        "#@title Calculado o roc_auc_score\n",
        "\n",
        "from sklearn.metrics import roc_auc_score\n",
        "from sklearn.preprocessing import LabelBinarizer\n",
        "from sklearn.metrics import RocCurveDisplay\n",
        "import matplotlib.pyplot as plt\n",
        "\n",
        "''' CTU_agreg_pred = y_pred_CTU_agreg\n",
        "isot_agreg_pred = y_pred_isot_agreg '''\n",
        "\n",
        "def auc_roc(y_true, y_pred):\n",
        "    lb = LabelBinarizer()\n",
        "\n",
        "    lb.fit(y_true)\n",
        "    y_true_bin = lb.transform(y_true)\n",
        "    y_pred_bin = lb.transform(y_pred)\n",
        "\n",
        "    return roc_auc_score(y_true_bin, y_pred_bin, average='weighted')\n",
        "\n",
        "print(f\"auc_roc_score:\\n\")\n",
        "\n",
        "'''\n",
        "print(f\"CTU AUC score: {auc_roc(testing_labels_CTU[1],CTU_agreg_pred)}\")\n",
        "print(f\"ISOT AUC score: {auc_roc(testing_labels_isot[1],isot_agreg_pred)}\")\n",
        "'''\n",
        "\n",
        "predictions_CTU = [predictions_CTU_1,predictions_CTU_2,predictions_CTU_3,predictions_CTU_4]\n",
        "predictions_isot = [predictions_isot_1,predictions_isot_2,predictions_isot_3,predictions_isot_4]\n",
        "\n",
        "for i in range(4):\n",
        "  print(f\"CTU AUC score:\\n\\tdevice {i+1} = {auc_roc(testing_labels_CTU[i],predictions_CTU[i])}\")\n",
        "  print(f\"ISOT AUC score:\\n\\tdevice {i+1} = {auc_roc(testing_labels_isot[i],predictions_isot[i])}\")"
      ],
      "metadata": {
        "colab": {
          "base_uri": "https://localhost:8080/"
        },
        "id": "Kczk0Oy7l6DS",
        "outputId": "9f72b673-cedf-4d5e-f76d-73ba6e09b889"
      },
      "execution_count": null,
      "outputs": [
        {
          "output_type": "stream",
          "name": "stdout",
          "text": [
            "auc_roc_score:\n",
            "\n",
            "CTU AUC score:\n",
            "\tdevice 1 = 0.8950972762242235\n",
            "ISOT AUC score:\n",
            "\tdevice 1 = 0.9651577422533227\n",
            "CTU AUC score:\n",
            "\tdevice 2 = 0.5719740416540899\n",
            "ISOT AUC score:\n",
            "\tdevice 2 = 0.6025040161827251\n",
            "CTU AUC score:\n",
            "\tdevice 3 = 0.9006192062935435\n",
            "ISOT AUC score:\n",
            "\tdevice 3 = 0.9732215563024911\n",
            "CTU AUC score:\n",
            "\tdevice 4 = 0.8989924199276494\n",
            "ISOT AUC score:\n",
            "\tdevice 4 = 0.9661632004731001\n"
          ]
        }
      ]
    },
    {
      "cell_type": "code",
      "execution_count": null,
      "metadata": {
        "colab": {
          "base_uri": "https://localhost:8080/",
          "height": 453
        },
        "id": "XmKGn3Xk54QN",
        "outputId": "29052662-7bc2-4656-fba7-ee24b48713d3",
        "cellView": "form"
      },
      "outputs": [
        {
          "output_type": "display_data",
          "data": {
            "text/plain": [
              "<Figure size 640x480 with 1 Axes>"
            ],
            "image/png": "[encoded data removed]"
          },
          "metadata": {}
        }
      ],
      "source": [
        "#@title matplot device 1\n",
        "\n",
        "from matplotlib import pyplot as plt\n",
        "\n",
        "benign = np.where(testing_labels_CTU[0] == 0)[0]\n",
        "attacks = np.where(testing_labels_CTU[0] != 0)[0]\n",
        "\n",
        "benign_energies = y_energies_CTU_1[benign]\n",
        "attacks_energies = y_energies_CTU_1[attacks]\n",
        "\n",
        "cutoff = devices_CTU[0].clf.estimators_[0].cutoff_\n",
        "\n",
        "bins = np.histogram(y_energies_CTU_1, bins=20)[1]\n",
        "\n",
        "plt.hist(\n",
        "    attacks_energies,\n",
        "    bins,\n",
        "    facecolor=\"#006680\",\n",
        "    alpha=0.7,\n",
        "    ec=\"white\",\n",
        "    linewidth=0.3,\n",
        "    label=\"malicious\",\n",
        ")\n",
        "plt.hist(\n",
        "    benign_energies,\n",
        "    bins,\n",
        "    facecolor=\"#b3b3b3\",\n",
        "    alpha=0.7,\n",
        "    ec=\"white\",\n",
        "    linewidth=0.3,\n",
        "    label=\"benign\",\n",
        ")\n",
        "plt.axvline(cutoff, color=\"r\", linestyle=\"dashed\", linewidth=1)\n",
        "\n",
        "peso_texto = f\"F1-Score CTU 1: 0.9302926575994297\"\n",
        "plt.text(0.95, 0.95, peso_texto, transform=plt.gca().transAxes, fontsize=10,\n",
        "         verticalalignment='top', horizontalalignment='right',\n",
        "         bbox=dict(facecolor='white', alpha=0.5, edgecolor='gray'))\n",
        "\n",
        "plt.legend()\n",
        "\n",
        "plt.xlabel(\"Energy\", fontsize=12)\n",
        "plt.ylabel(\"Density\", fontsize=12)\n",
        "\n",
        "plt.show()"
      ]
    },
    {
      "cell_type": "code",
      "execution_count": null,
      "metadata": {
        "colab": {
          "base_uri": "https://localhost:8080/",
          "height": 453
        },
        "id": "W5gIp9eG57Gv",
        "outputId": "067ffef9-5f96-4fee-ca5f-fc91408ce0ce",
        "cellView": "form"
      },
      "outputs": [
        {
          "output_type": "display_data",
          "data": {
            "text/plain": [
              "<Figure size 640x480 with 1 Axes>"
            ],
            "image/png": "[encoded data removed]"
          },
          "metadata": {}
        }
      ],
      "source": [
        "#@title matplot device 2\n",
        "from matplotlib import pyplot as plt\n",
        "\n",
        "benign = np.where(testing_labels_CTU[1] == 0)[0]\n",
        "attacks = np.where(testing_labels_CTU[1] != 0)[0]\n",
        "\n",
        "benign_energies = y_energies_CTU_2[benign]\n",
        "attacks_energies = y_energies_CTU_2[attacks]\n",
        "\n",
        "cutoff = devices_CTU[1].clf.estimators_[0].cutoff_\n",
        "\n",
        "bins = np.histogram(y_energies_CTU_2, bins=20)[1]\n",
        "\n",
        "plt.hist(\n",
        "    attacks_energies,\n",
        "    bins,\n",
        "    facecolor=\"#006680\",\n",
        "    alpha=0.7,\n",
        "    ec=\"white\",\n",
        "    linewidth=0.3,\n",
        "    label=\"malicious\",\n",
        ")\n",
        "plt.hist(\n",
        "    benign_energies,\n",
        "    bins,\n",
        "    facecolor=\"#b3b3b3\",\n",
        "    alpha=0.7,\n",
        "    ec=\"white\",\n",
        "    linewidth=0.3,\n",
        "    label=\"benign\",\n",
        ")\n",
        "plt.axvline(cutoff, color=\"r\", linestyle=\"dashed\", linewidth=1)\n",
        "peso_texto = f\"F1-Score CTU 2: 0.25893804098499806\"\n",
        "plt.text(0.95, 0.95, peso_texto, transform=plt.gca().transAxes, fontsize=10,\n",
        "         verticalalignment='top', horizontalalignment='right',\n",
        "         bbox=dict(facecolor='white', alpha=0.5, edgecolor='gray'))\n",
        "\n",
        "plt.legend()\n",
        "\n",
        "plt.xlabel(\"Energy\", fontsize=12)\n",
        "plt.ylabel(\"Density\", fontsize=12)\n",
        "\n",
        "plt.show()"
      ]
    },
    {
      "cell_type": "code",
      "source": [
        "#@title matplot device 3\n",
        "from matplotlib import pyplot as plt\n",
        "\n",
        "benign = np.where(testing_labels_CTU[2] == 0)[0]\n",
        "attacks = np.where(testing_labels_CTU[2] != 0)[0]\n",
        "\n",
        "benign_energies = y_energies_CTU_3[benign]\n",
        "attacks_energies = y_energies_CTU_3[attacks]\n",
        "\n",
        "cutoff = devices_CTU[2].clf.estimators_[0].cutoff_\n",
        "\n",
        "bins = np.histogram(y_energies_CTU_3, bins=20)[1]\n",
        "\n",
        "plt.hist(\n",
        "    attacks_energies,\n",
        "    bins,\n",
        "    facecolor=\"#006680\",\n",
        "    alpha=0.7,\n",
        "    ec=\"white\",\n",
        "    linewidth=0.3,\n",
        "    label=\"malicious\",\n",
        ")\n",
        "plt.hist(\n",
        "    benign_energies,\n",
        "    bins,\n",
        "    facecolor=\"#b3b3b3\",\n",
        "    alpha=0.7,\n",
        "    ec=\"white\",\n",
        "    linewidth=0.3,\n",
        "    label=\"benign\",\n",
        ")\n",
        "plt.axvline(cutoff, color=\"r\", linestyle=\"dashed\", linewidth=1)\n",
        "peso_texto = f\"F1-Score CTU 3: 0.9367241712935491\"\n",
        "plt.text(0.95, 0.95, peso_texto, transform=plt.gca().transAxes, fontsize=10,\n",
        "         verticalalignment='top', horizontalalignment='right',\n",
        "         bbox=dict(facecolor='white', alpha=0.5, edgecolor='gray'))\n",
        "\n",
        "plt.legend()\n",
        "\n",
        "plt.xlabel(\"Energy\", fontsize=12)\n",
        "plt.ylabel(\"Density\", fontsize=12)\n",
        "\n",
        "plt.show()"
      ],
      "metadata": {
        "colab": {
          "base_uri": "https://localhost:8080/",
          "height": 453
        },
        "id": "GmgSe7dYQxBN",
        "outputId": "c933af50-e0a6-4db8-fd8c-c0d0f86d155c",
        "cellView": "form"
      },
      "execution_count": null,
      "outputs": [
        {
          "output_type": "display_data",
          "data": {
            "text/plain": [
              "<Figure size 640x480 with 1 Axes>"
            ],
            "image/png": "[encoded data removed]"
          },
          "metadata": {}
        }
      ]
    },
    {
      "cell_type": "code",
      "source": [
        "#@title matplot device 4\n",
        "from matplotlib import pyplot as plt\n",
        "\n",
        "benign = np.where(testing_labels_CTU[3] == 0)[0]\n",
        "attacks = np.where(testing_labels_CTU[3] != 0)[0]\n",
        "\n",
        "benign_energies = y_energies_CTU_4[benign]\n",
        "attacks_energies = y_energies_CTU_4[attacks]\n",
        "\n",
        "cutoff = devices_CTU[3].clf.estimators_[0].cutoff_\n",
        "\n",
        "bins = np.histogram(y_energies_CTU_4, bins=20)[1]\n",
        "\n",
        "plt.hist(\n",
        "    attacks_energies,\n",
        "    bins,\n",
        "    facecolor=\"#006680\",\n",
        "    alpha=0.7,\n",
        "    ec=\"white\",\n",
        "    linewidth=0.3,\n",
        "    label=\"malicious\",\n",
        ")\n",
        "plt.hist(\n",
        "    benign_energies,\n",
        "    bins,\n",
        "    facecolor=\"#b3b3b3\",\n",
        "    alpha=0.7,\n",
        "    ec=\"white\",\n",
        "    linewidth=0.3,\n",
        "    label=\"benign\",\n",
        ")\n",
        "plt.axvline(cutoff, color=\"r\", linestyle=\"dashed\", linewidth=1)\n",
        "peso_texto = f\"F1-Score CTU 4: 0.9354972468095791\"\n",
        "plt.text(0.95, 0.95, peso_texto, transform=plt.gca().transAxes, fontsize=10,\n",
        "         verticalalignment='top', horizontalalignment='right',\n",
        "         bbox=dict(facecolor='white', alpha=0.5, edgecolor='gray'))\n",
        "\n",
        "plt.legend()\n",
        "\n",
        "plt.xlabel(\"Energy\", fontsize=12)\n",
        "plt.ylabel(\"Density\", fontsize=12)\n",
        "\n",
        "plt.show()"
      ],
      "metadata": {
        "colab": {
          "base_uri": "https://localhost:8080/",
          "height": 453
        },
        "id": "oAYHvSFnQxgn",
        "outputId": "70272049-e2cc-4910-dd44-d3725c578676",
        "cellView": "form"
      },
      "execution_count": null,
      "outputs": [
        {
          "output_type": "display_data",
          "data": {
            "text/plain": [
              "<Figure size 640x480 with 1 Axes>"
            ],
            "image/png": "[encoded data removed]"
          },
          "metadata": {}
        }
      ]
    },
    {
      "cell_type": "code",
      "execution_count": null,
      "metadata": {
        "colab": {
          "base_uri": "https://localhost:8080/",
          "height": 453
        },
        "id": "7vwdIDGI4SQd",
        "outputId": "697c53a6-328b-4c14-b69f-f7f14184cfdc",
        "cellView": "form"
      },
      "outputs": [
        {
          "output_type": "display_data",
          "data": {
            "text/plain": [
              "<Figure size 640x480 with 1 Axes>"
            ],
            "image/png": "[encoded data removed]"
          },
          "metadata": {}
        }
      ],
      "source": [
        "#@title matplot device 5\n",
        "\n",
        "from matplotlib import pyplot as plt\n",
        "\n",
        "benign = np.where(testing_labels_isot[0] == 0)[0]\n",
        "attacks = np.where(testing_labels_isot[0] != 0)[0]\n",
        "\n",
        "benign_energies = y_energies_isot_1[benign]\n",
        "attacks_energies = y_energies_isot_1[attacks]\n",
        "\n",
        "cutoff = devices_isot[0].clf.estimators_[0].cutoff_\n",
        "\n",
        "bins = np.histogram(y_energies_isot_1, bins=20)[1]\n",
        "\n",
        "plt.hist(\n",
        "    attacks_energies,\n",
        "    bins,\n",
        "    facecolor=\"#006680\",\n",
        "    alpha=0.7,\n",
        "    ec=\"white\",\n",
        "    linewidth=0.3,\n",
        "    label=\"malicious\",\n",
        ")\n",
        "plt.hist(\n",
        "    benign_energies,\n",
        "    bins,\n",
        "    facecolor=\"#b3b3b3\",\n",
        "    alpha=0.7,\n",
        "    ec=\"white\",\n",
        "    linewidth=0.3,\n",
        "    label=\"benign\",\n",
        ")\n",
        "plt.axvline(cutoff, color=\"r\", linestyle=\"dashed\", linewidth=1)\n",
        "\n",
        "peso_texto = f\"F1-Score isot 1: 0.9832213280387659\"\n",
        "plt.text(0.95, 0.95, peso_texto, transform=plt.gca().transAxes, fontsize=10,\n",
        "         verticalalignment='top', horizontalalignment='right',\n",
        "         bbox=dict(facecolor='white', alpha=0.5, edgecolor='gray'))\n",
        "\n",
        "plt.legend()\n",
        "\n",
        "plt.xlabel(\"Energy\", fontsize=12)\n",
        "plt.ylabel(\"Density\", fontsize=12)\n",
        "\n",
        "plt.show()"
      ]
    },
    {
      "cell_type": "code",
      "execution_count": null,
      "metadata": {
        "colab": {
          "base_uri": "https://localhost:8080/",
          "height": 453
        },
        "id": "Acg1UtnQ4Sfb",
        "outputId": "3e582951-4796-498f-82fa-494a80c447c9",
        "cellView": "form"
      },
      "outputs": [
        {
          "output_type": "display_data",
          "data": {
            "text/plain": [
              "<Figure size 640x480 with 1 Axes>"
            ],
            "image/png": "[encoded data removed]"
          },
          "metadata": {}
        }
      ],
      "source": [
        "#@title matplot device 6\n",
        "\n",
        "from matplotlib import pyplot as plt\n",
        "\n",
        "benign = np.where(testing_labels_isot[1] == 0)[0]\n",
        "attacks = np.where(testing_labels_isot[1] != 0)[0]\n",
        "\n",
        "benign_energies = y_energies_isot_2[benign]\n",
        "attacks_energies = y_energies_isot_2[attacks]\n",
        "\n",
        "cutoff = devices_isot[1].clf.estimators_[0].cutoff_\n",
        "\n",
        "bins = np.histogram(y_energies_isot_2, bins=20)[1]\n",
        "\n",
        "plt.hist(\n",
        "    attacks_energies,\n",
        "    bins,\n",
        "    facecolor=\"#006680\",\n",
        "    alpha=0.7,\n",
        "    ec=\"white\",\n",
        "    linewidth=0.3,\n",
        "    label=\"malicious\",\n",
        ")\n",
        "plt.hist(\n",
        "    benign_energies,\n",
        "    bins,\n",
        "    facecolor=\"#b3b3b3\",\n",
        "    alpha=0.7,\n",
        "    ec=\"white\",\n",
        "    linewidth=0.3,\n",
        "    label=\"benign\",\n",
        ")\n",
        "plt.axvline(cutoff, color=\"r\", linestyle=\"dashed\", linewidth=1)\n",
        "\n",
        "peso_texto = f\"F1-Score isot 2: 0.8236448802988148\"\n",
        "plt.text(0.95, 0.95, peso_texto, transform=plt.gca().transAxes, fontsize=10,\n",
        "         verticalalignment='top', horizontalalignment='right',\n",
        "         bbox=dict(facecolor='white', alpha=0.5, edgecolor='gray'))\n",
        "\n",
        "plt.legend()\n",
        "\n",
        "plt.xlabel(\"Energy\", fontsize=12)\n",
        "plt.ylabel(\"Density\", fontsize=12)\n",
        "\n",
        "plt.show()"
      ]
    },
    {
      "cell_type": "code",
      "source": [
        "#@title matplot device 7\n",
        "\n",
        "from matplotlib import pyplot as plt\n",
        "\n",
        "benign = np.where(testing_labels_isot[2] == 0)[0]\n",
        "attacks = np.where(testing_labels_isot[2] != 0)[0]\n",
        "\n",
        "benign_energies = y_energies_isot_3[benign]\n",
        "attacks_energies = y_energies_isot_3[attacks]\n",
        "\n",
        "cutoff = devices_isot[2].clf.estimators_[0].cutoff_\n",
        "\n",
        "bins = np.histogram(y_energies_isot_3, bins=20)[1]\n",
        "\n",
        "plt.hist(\n",
        "    attacks_energies,\n",
        "    bins,\n",
        "    facecolor=\"#006680\",\n",
        "    alpha=0.7,\n",
        "    ec=\"white\",\n",
        "    linewidth=0.3,\n",
        "    label=\"malicious\",\n",
        ")\n",
        "plt.hist(\n",
        "    benign_energies,\n",
        "    bins,\n",
        "    facecolor=\"#b3b3b3\",\n",
        "    alpha=0.7,\n",
        "    ec=\"white\",\n",
        "    linewidth=0.3,\n",
        "    label=\"benign\",\n",
        ")\n",
        "plt.axvline(cutoff, color=\"r\", linestyle=\"dashed\", linewidth=1)\n",
        "\n",
        "peso_texto = f\"F1-Score isot 3: 0.9887442685070627\"\n",
        "plt.text(0.95, 0.95, peso_texto, transform=plt.gca().transAxes, fontsize=10,\n",
        "         verticalalignment='top', horizontalalignment='right',\n",
        "         bbox=dict(facecolor='white', alpha=0.5, edgecolor='gray'))\n",
        "\n",
        "plt.legend()\n",
        "\n",
        "plt.xlabel(\"Energy\", fontsize=12)\n",
        "plt.ylabel(\"Density\", fontsize=12)\n",
        "\n",
        "plt.show()"
      ],
      "metadata": {
        "colab": {
          "base_uri": "https://localhost:8080/",
          "height": 453
        },
        "id": "ChpGBAbPRcpS",
        "outputId": "de9ac5c1-d7ab-4ab3-d32c-a9af2eef28bf",
        "cellView": "form"
      },
      "execution_count": null,
      "outputs": [
        {
          "output_type": "display_data",
          "data": {
            "text/plain": [
              "<Figure size 640x480 with 1 Axes>"
            ],
            "image/png": "[encoded data removed]"
          },
          "metadata": {}
        }
      ]
    },
    {
      "cell_type": "code",
      "source": [
        "#@title matplot device 8\n",
        "\n",
        "from matplotlib import pyplot as plt\n",
        "\n",
        "benign = np.where(testing_labels_isot[3] == 0)[0]\n",
        "attacks = np.where(testing_labels_isot[3] != 0)[0]\n",
        "\n",
        "benign_energies = y_energies_isot_4[benign]\n",
        "attacks_energies = y_energies_isot_4[attacks]\n",
        "\n",
        "cutoff = devices_isot[3].clf.estimators_[0].cutoff_\n",
        "\n",
        "bins = np.histogram(y_energies_isot_4, bins=20)[1]\n",
        "\n",
        "plt.hist(\n",
        "    attacks_energies,\n",
        "    bins,\n",
        "    facecolor=\"#006680\",\n",
        "    alpha=0.7,\n",
        "    ec=\"white\",\n",
        "    linewidth=0.3,\n",
        "    label=\"malicious\",\n",
        ")\n",
        "plt.hist(\n",
        "    benign_energies,\n",
        "    bins,\n",
        "    facecolor=\"#b3b3b3\",\n",
        "    alpha=0.7,\n",
        "    ec=\"white\",\n",
        "    linewidth=0.3,\n",
        "    label=\"benign\",\n",
        ")\n",
        "plt.axvline(cutoff, color=\"r\", linestyle=\"dashed\", linewidth=1)\n",
        "\n",
        "peso_texto = f\"F1-Score isot 4: 0.9769991551996363\"\n",
        "plt.text(0.95, 0.95, peso_texto, transform=plt.gca().transAxes, fontsize=10,\n",
        "         verticalalignment='top', horizontalalignment='right',\n",
        "         bbox=dict(facecolor='white', alpha=0.5, edgecolor='gray'))\n",
        "\n",
        "plt.legend()\n",
        "\n",
        "plt.xlabel(\"Energy\", fontsize=12)\n",
        "plt.ylabel(\"Density\", fontsize=12)\n",
        "\n",
        "plt.show()"
      ],
      "metadata": {
        "colab": {
          "base_uri": "https://localhost:8080/",
          "height": 453
        },
        "id": "_BNKL0WVRdeH",
        "outputId": "b55b6b5f-ba33-48b1-df40-6948dab35f71",
        "cellView": "form"
      },
      "execution_count": null,
      "outputs": [
        {
          "output_type": "display_data",
          "data": {
            "text/plain": [
              "<Figure size 640x480 with 1 Axes>"
            ],
            "image/png": "[encoded data removed]"
          },
          "metadata": {}
        }
      ]
    },
    {
      "cell_type": "code",
      "execution_count": null,
      "metadata": {
        "colab": {
          "base_uri": "https://localhost:8080/"
        },
        "id": "iC2Ikyyl5zFL",
        "outputId": "27dc8211-2b89-477d-b2cb-49c223bb166a"
      },
      "outputs": [
        {
          "output_type": "stream",
          "name": "stdout",
          "text": [
            "F1-Score CTU 1: 0.9302926575994297\n",
            "F1-Score CTU 2: 0.25893804098499806\n",
            "F1-Score CTU 3: 0.9367241712935491\n",
            "F1-Score CTU 4: 0.9354972468095791\n",
            "F1-Score isot 1: 0.9832213280387659\n",
            "F1-Score isot 2: 0.8236448802988148\n",
            "F1-Score isot 3: 0.9887442685070627\n",
            "F1-Score isot 4: 0.9769991551996363\n",
            "F1-Score Baseline BENIGN com CTU: \t1 - 0.7731995625477758\n",
            "\t\t\t\t\t2 - 0.7750652469757641\n",
            "\t\t\t\t\t3 - 0.7738617162119069\n",
            "\t\t\t\t\t4 - 0.7719211662153614\n",
            "\n",
            "F1-Score Baseline BENIGN com isot:\t1 - 0.051863538944059526\n",
            "\t\t\t\t\t2 - 0.050332283225835946\n",
            "\t\t\t\t\t3 - 0.05081921422421991\n",
            "\t\t\t\t\t4 - 0.05081921422421991\n",
            "\n",
            "Classes CTU: [0 1]\n",
            "Classes isot: [0 1]\n",
            "F1-Score Baseline Aleatório com CTU: \t1 - 0.5673106702914111\n",
            "\t\t\t\t\t2 - 0.5657619398658358\n",
            "\t\t\t\t\t3 - 0.5637843026942576\n",
            "\t\t\t\t\t4 - 0.5680827676148078\n",
            "\n",
            "F1-Score Baseline Aleatório com isot:\t1 - 0.5585783582977115\n",
            "\t\t\t\t\t2 - 0.5592953238082599\n",
            "\t\t\t\t\t3 - 0.5616833465148292\n",
            "\t\t\t\t\t4 - 0.5621070933492434\n",
            "\n"
          ]
        }
      ],
      "source": [
        "#@title f1_score\n",
        "\n",
        "\n",
        "baseline_benign_preds_CTU = server_CTU.baseline_benign(testing_data_CTU[0],0)\n",
        "baseline_benign_preds_CTU_2 = server_CTU.baseline_benign(testing_data_CTU[1],0)\n",
        "baseline_benign_preds_CTU_3 = server_CTU.baseline_benign(testing_data_CTU[2],0)\n",
        "baseline_benign_preds_CTU_4 = server_CTU.baseline_benign(testing_data_CTU[3],0)\n",
        "\n",
        "baseline_benign_preds_isot = server_isot.baseline_benign(testing_data_isot[0],0)\n",
        "baseline_benign_preds_isot_2 = server_isot.baseline_benign(testing_data_isot[1],0)\n",
        "baseline_benign_preds_isot_3 = server_isot.baseline_benign(testing_data_isot[2],0)\n",
        "baseline_benign_preds_isot_4 = server_isot.baseline_benign(testing_data_isot[3],0)\n",
        "\n",
        "classes_CTU = np.unique(testing_labels_CTU[0])\n",
        "classes_isot = np.unique(testing_labels_isot[0])\n",
        "\n",
        "\n",
        "\n",
        "baseline_random_preds_CTU = server_CTU.baseline_random(testing_data_CTU[0],classes_CTU)\n",
        "baseline_random_preds_CTU_2 = server_CTU.baseline_random(testing_data_CTU[1],classes_CTU)\n",
        "baseline_random_preds_CTU_3 = server_CTU.baseline_random(testing_data_CTU[2],classes_CTU)\n",
        "baseline_random_preds_CTU_4 = server_CTU.baseline_random(testing_data_CTU[3],classes_CTU)\n",
        "\n",
        "baseline_random_preds_isot = server_isot.baseline_random(testing_data_isot[0],classes_isot)\n",
        "baseline_random_preds_isot_2 = server_isot.baseline_random(testing_data_isot[1],classes_isot)\n",
        "baseline_random_preds_isot_3 = server_isot.baseline_random(testing_data_isot[2],classes_isot)\n",
        "baseline_random_preds_isot_4 = server_isot.baseline_random(testing_data_isot[3],classes_isot)\n",
        "\n",
        "# Calculo do f1-score baseline benigno\n",
        "\n",
        "baseline_benign_CTU_f1 = f1_score(testing_labels_CTU[0], baseline_benign_preds_CTU, average='weighted')\n",
        "baseline_benign_CTU_2_f1 = f1_score(testing_labels_CTU[1], baseline_benign_preds_CTU_2, average='weighted')\n",
        "baseline_benign_CTU_3_f1 = f1_score(testing_labels_CTU[2], baseline_benign_preds_CTU_3, average='weighted')\n",
        "baseline_benign_CTU_4_f1 = f1_score(testing_labels_CTU[3], baseline_benign_preds_CTU_4, average='weighted')\n",
        "\n",
        "baseline_benign_isot_f1 = f1_score(testing_labels_isot[0], baseline_benign_preds_isot, average='weighted')\n",
        "baseline_benign_isot_2_f1 = f1_score(testing_labels_isot[1], baseline_benign_preds_isot_2, average='weighted')\n",
        "baseline_benign_isot_3_f1 = f1_score(testing_labels_isot[2], baseline_benign_preds_isot_3, average='weighted')\n",
        "baseline_benign_isot_4_f1 = f1_score(testing_labels_isot[3], baseline_benign_preds_isot_4, average='weighted')\n",
        "\n",
        "# Calculo do f1-score baseline aleatorio\n",
        "\n",
        "baseline_random_CTU_f1 = f1_score(testing_labels_CTU[0], baseline_random_preds_CTU, average='weighted')\n",
        "baseline_random_CTU_2_f1 = f1_score(testing_labels_CTU[1], baseline_random_preds_CTU_2, average='weighted')\n",
        "baseline_random_CTU_3_f1 = f1_score(testing_labels_CTU[2], baseline_random_preds_CTU_3, average='weighted')\n",
        "baseline_random_CTU_4_f1 = f1_score(testing_labels_CTU[3], baseline_random_preds_CTU_4, average='weighted')\n",
        "\n",
        "baseline_random_isot_f1 = f1_score(testing_labels_isot[0], baseline_random_preds_isot, average='weighted')\n",
        "baseline_random_isot_2_f1 = f1_score(testing_labels_isot[1], baseline_random_preds_isot_2, average='weighted')\n",
        "baseline_random_isot_3_f1 = f1_score(testing_labels_isot[2], baseline_random_preds_isot_3, average='weighted')\n",
        "baseline_random_isot_4_f1 = f1_score(testing_labels_isot[3], baseline_random_preds_isot_4, average='weighted')\n",
        "\n",
        "# Calculo do f1-score da base CTU\n",
        "\n",
        "f1_score_CTU = f1_score(testing_labels_CTU[0], predictions_CTU_1, average='weighted')\n",
        "f1_score_CTU_2 = f1_score(testing_labels_CTU[1], predictions_CTU_2, average='weighted')\n",
        "f1_score_CTU_3 = f1_score(testing_labels_CTU[2], predictions_CTU_3, average='weighted')\n",
        "f1_score_CTU_4 = f1_score(testing_labels_CTU[3], predictions_CTU_4, average='weighted')\n",
        "\n",
        "# Calculo do f1-score da base isot\n",
        "\n",
        "f1_score_isot = f1_score(testing_labels_isot[0], predictions_isot_1, average='weighted')\n",
        "f1_score_isot_2 = f1_score(testing_labels_isot[1], predictions_isot_2, average='weighted')\n",
        "f1_score_isot_3 = f1_score(testing_labels_isot[2], predictions_isot_3, average='weighted')\n",
        "f1_score_isot_4 = f1_score(testing_labels_isot[3], predictions_isot_4, average='weighted')\n",
        "\n",
        "print(f\"F1-Score CTU 1: {f1_score_CTU}\")\n",
        "print(f\"F1-Score CTU 2: {f1_score_CTU_2}\")\n",
        "print(f\"F1-Score CTU 3: {f1_score_CTU_3}\")\n",
        "print(f\"F1-Score CTU 4: {f1_score_CTU_4}\")\n",
        "\n",
        "print(f\"F1-Score isot 1: {f1_score_isot}\")\n",
        "print(f\"F1-Score isot 2: {f1_score_isot_2}\")\n",
        "print(f\"F1-Score isot 3: {f1_score_isot_3}\")\n",
        "print(f\"F1-Score isot 4: {f1_score_isot_4}\")\n",
        "\n",
        "print(f\"F1-Score Baseline BENIGN com CTU: \\t1 - {baseline_benign_CTU_f1}\\n\\t\\t\\t\\t\\t2 - {baseline_benign_CTU_2_f1}\\n\\t\\t\\t\\t\\t3 - {baseline_benign_CTU_3_f1}\\n\\t\\t\\t\\t\\t4 - {baseline_benign_CTU_4_f1}\\n\")\n",
        "print(f\"F1-Score Baseline BENIGN com isot:\\t1 - {baseline_benign_isot_f1}\\n\\t\\t\\t\\t\\t2 - {baseline_benign_isot_2_f1}\\n\\t\\t\\t\\t\\t3 - {baseline_benign_isot_3_f1}\\n\\t\\t\\t\\t\\t4 - {baseline_benign_isot_3_f1}\\n\")\n",
        "\n",
        "print(f\"Classes CTU: {classes_CTU}\")\n",
        "print(f\"Classes isot: {classes_isot}\")\n",
        "print(f\"F1-Score Baseline Aleatório com CTU: \\t1 - {baseline_random_CTU_f1}\\n\\t\\t\\t\\t\\t2 - {baseline_random_CTU_2_f1}\\n\\t\\t\\t\\t\\t3 - {baseline_random_CTU_3_f1}\\n\\t\\t\\t\\t\\t4 - {baseline_random_CTU_4_f1}\\n\")\n",
        "print(f\"F1-Score Baseline Aleatório com isot:\\t1 - {baseline_random_isot_f1}\\n\\t\\t\\t\\t\\t2 - {baseline_random_isot_2_f1}\\n\\t\\t\\t\\t\\t3 - {baseline_random_isot_3_f1}\\n\\t\\t\\t\\t\\t4 - {baseline_random_isot_4_f1}\\n\")\n",
        "\n",
        "#pesos_CTU = calcular_pesos(f1_scores_CTU)\n",
        "#pesos_isot = calcular_pesos(f1_scores_isot)\n",
        "\n",
        "#print(\"Pesos CTU:\", pesos_CTU,'\\nPesos ISOT-HTTP:', pesos_isot)\n"
      ]
    },
    {
      "cell_type": "code",
      "execution_count": null,
      "metadata": {
        "id": "mtWXLFha7v9p"
      },
      "outputs": [],
      "source": [
        "pesos = [\n",
        "      [0.3,0.3,0.2,0.2],[0.3,0.3,0.1,0.3],[0.3,0.2,0.2,0.3],[0.7,0.1,0.1,0.1],\n",
        "      [0.1,0.7,0.1,0.1],[0.1,0.1,0.7,0.1],[0.1,0.1,0.1,0.7],[0.4,0.2,0.1,0.3],\n",
        "      [0.3,0.2,0.1,0.4],[0.1,0.6,0.2,0.1],[0.1,0.4,0.4,0.1],[0.1,0.1,0.1,0.7],\n",
        "      [0.4,0.1,0.1,0.4],[0.1,0.1,0.6,0.2],[0.1,0.1,0.2,0.6],[0.6,0.2,0.1,0.1],\n",
        "      [0.6,0.1,0.2,0.1],[0.6,0.1,0.1,0.2],[0.1,0.6,0.1,0.2],[0.1,0.1,0.6,0.2],\n",
        "      [0.1,0.1,0.2,0.6],[0.1,0.6,0.2,0.1],[0.1,0.1,0.6,0.2],[0.1,0.1,0.2,0.6]\n",
        "    ]\n"
      ]
    },
    {
      "cell_type": "code",
      "execution_count": null,
      "metadata": {
        "colab": {
          "base_uri": "https://localhost:8080/",
          "height": 676
        },
        "id": "YDpR5LYYAGYc",
        "outputId": "ff958f6a-ad50-40cf-ca6c-1c657ec5e832"
      },
      "outputs": [
        {
          "output_type": "stream",
          "name": "stdout",
          "text": [
            "2138.993809131337 0.3\n",
            "2160.8894534506726 0.3\n",
            "2138.581500334269 0.2\n",
            "2139.2313180528963 0.2\n",
            "2117.16795144865 0.3\n",
            "2170.004846776747 0.3\n",
            "2138.297144719448 0.2\n",
            "2135.0359901329934 0.2\n"
          ]
        },
        {
          "output_type": "display_data",
          "data": {
            "text/plain": [
              "array([[-1.17187592e+02, -6.02027889e+01, -6.00020002e+01, ...,\n",
              "        -1.49769086e-14, -1.48214774e-14, -1.39555034e-14],\n",
              "       [-6.02027889e+01, -1.14250431e+02, -6.00001102e+01, ...,\n",
              "         5.02708986e-14,  5.14477350e-14,  5.17585974e-14],\n",
              "       [-6.00020002e+01, -6.00001102e+01, -1.19967654e+02, ...,\n",
              "        -1.35225164e-14, -1.21125332e-14, -9.50350909e-15],\n",
              "       ...,\n",
              "       [ 1.64313008e-15,  4.44422277e-14, -5.63993297e-15, ...,\n",
              "        -1.20000000e+02, -6.00000000e+01, -6.00000000e+01],\n",
              "       [ 1.60982339e-15,  4.46753745e-14, -5.63993297e-15, ...,\n",
              "        -6.00000000e+01, -1.20000000e+02, -6.00000000e+01],\n",
              "       [ 1.60982339e-15,  4.45754544e-14, -5.63993297e-15, ...,\n",
              "        -6.00000000e+01, -6.00000000e+01, -1.20000000e+02]])"
            ]
          },
          "metadata": {}
        },
        {
          "output_type": "display_data",
          "data": {
            "text/plain": [
              "array([[-1.16027796e+02, -6.07367430e+01, -6.05799759e+01, ...,\n",
              "        -6.69353462e-14, -6.35491659e-14, -5.92081939e-14],\n",
              "       [-6.07367430e+01, -1.16553731e+02, -6.04648134e+01, ...,\n",
              "        -6.76236844e-14, -7.24975635e-14, -5.76982906e-14],\n",
              "       [-6.05799759e+01, -6.04648134e+01, -1.17104961e+02, ...,\n",
              "        -3.79696274e-14, -4.02344824e-14, -3.41171535e-14],\n",
              "       ...,\n",
              "       [-6.31494856e-14, -3.86246590e-14, -1.96176408e-14, ...,\n",
              "        -1.20000000e+02, -6.00000000e+01, -6.00000000e+01],\n",
              "       [-6.31494856e-14, -3.85913523e-14, -1.96176408e-14, ...,\n",
              "        -6.00000000e+01, -1.20000000e+02, -6.00000000e+01],\n",
              "       [-6.32272013e-14, -3.85136367e-14, -1.96176408e-14, ...,\n",
              "        -6.00000000e+01, -6.00000000e+01, -1.20000000e+02]])"
            ]
          },
          "metadata": {}
        },
        {
          "output_type": "display_data",
          "data": {
            "text/plain": [
              "array([60.18270454, 60.28998596, 60.00250835, ..., 60.        ,\n",
              "       60.        , 60.        ])"
            ]
          },
          "metadata": {}
        },
        {
          "output_type": "display_data",
          "data": {
            "text/plain": [
              "array([61.12660256, 60.6836272 , 59.49659603, ..., 60.        ,\n",
              "       60.        , 60.        ])"
            ]
          },
          "metadata": {}
        }
      ],
      "source": [
        "#@title Agregando com media aritmetica\n",
        "from re import A\n",
        "from sklearn.metrics import classification_report\n",
        "\n",
        "peso_atual = 0\n",
        "\n",
        "matrizes_Acoplamento_CTU = []\n",
        "campos_Locais_CTU = []\n",
        "threshold_CTU = []\n",
        "\n",
        "matrizes_Acoplamento_isot = []\n",
        "campos_Locais_isot = []\n",
        "threshold_isot = []\n",
        "\n",
        "\n",
        "for i in range(n_devices):\n",
        "  print(devices_CTU[i].clf.estimators_[0].cutoff_,pesos[peso_atual][i])\n",
        "  threshold_CTU.append(devices_CTU[i].clf.estimators_[0].cutoff_ * pesos[peso_atual][i])\n",
        "  matrizes_Acoplamento_CTU.append(devices_CTU[i].clf.estimators_[0].coupling_matrix_ * pesos[peso_atual][i])\n",
        "  campos_Locais_CTU.append(devices_CTU[i].clf.estimators_[0].local_fields_ * pesos[peso_atual][i])\n",
        "\n",
        "\n",
        "for i in range(n_devices):\n",
        "  print(devices_isot[i].clf.estimators_[0].cutoff_,pesos[peso_atual][i])\n",
        "  threshold_isot.append(devices_isot[i].clf.estimators_[0].cutoff_ * pesos[peso_atual][i])\n",
        "  matrizes_Acoplamento_isot.append(devices_isot[i].clf.estimators_[0].coupling_matrix_ * pesos[peso_atual][i])\n",
        "  campos_Locais_isot.append(devices_isot[i].clf.estimators_[0].local_fields_ * pesos[peso_atual][i])\n",
        "\n",
        "sum_pesos = sum(pesos[peso_atual])\n",
        "\n",
        "new_threshold_CTU = sum(threshold_CTU)/sum_pesos\n",
        "new_threshold_isot = sum(threshold_isot)/sum_pesos\n",
        "\n",
        "\n",
        "acoplamento_CTU, locais_CTU = server_CTU.agregar_modelo_ponderado(matrizes_Acoplamento_CTU, campos_Locais_CTU, sum_pesos)\n",
        "acoplamento_isot, locais_isot = server_isot.agregar_modelo_ponderado(matrizes_Acoplamento_isot, campos_Locais_isot, sum_pesos)\n",
        "\n",
        "#acoplamento_CTU, locais_CTU = server_CTU.Agregar_treinamento_media_aritmetica(matrizes_Acoplamento_CTU,campos_Locais_CTU)\n",
        "#acoplamento_isot, locais_isot = server_isot.Agregar_treinamento_media_aritmetica(matrizes_Acoplamento_isot,campos_Locais_isot)\n",
        "\n",
        "devices_CTU[0].clf.estimators_[0].coupling_matrix_ = acoplamento_CTU\n",
        "devices_CTU[0].clf.estimators_[0].local_fields_ = locais_CTU\n",
        "\n",
        "devices_CTU[1].clf.estimators_[0].coupling_matrix_ = acoplamento_CTU\n",
        "devices_CTU[1].clf.estimators_[0].local_fields_ = locais_CTU\n",
        "\n",
        "devices_isot[0].clf.estimators_[0].coupling_matrix_ = acoplamento_isot\n",
        "devices_isot[0].clf.estimators_[0].local_fields_ = locais_isot\n",
        "\n",
        "devices_isot[1].clf.estimators_[0].coupling_matrix_ = acoplamento_isot\n",
        "devices_isot[1].clf.estimators_[0].local_fields_ = locais_isot\n",
        "\n",
        "display(acoplamento_CTU)\n",
        "display(acoplamento_isot)\n",
        "\n",
        "display(locais_CTU)\n",
        "display(locais_isot)"
      ]
    },
    {
      "cell_type": "code",
      "execution_count": null,
      "metadata": {
        "id": "4ssZh1LfTayl"
      },
      "outputs": [],
      "source": [
        "# Predict depois da agregação\n",
        "\n",
        "server_CTU.clf.estimators_[0].cutoff_ = server_CTU.clf.estimators_[0]._define_cutoff()\n",
        "#devices_CTU[1].clf.estimators_[0].cutoff_ = np.percentile(y_en_CTU_agreg, 95)\n",
        "y_pred_CTU_agreg, y_en_CTU_agreg = server_CTU.predict(testing_data_CTU[1])\n",
        "\n",
        "server_isot.clf.estimators_[0].cutoff_ = server_isot.clf.estimators_[0]._define_cutoff()\n",
        "#devices_isot[1].clf.estimators_[0].cutoff_ = np.percentile(y_en_isot_agreg, 95)\n",
        "y_pred_isot_agreg, y_en_isot_agreg = server_isot.predict(testing_data_isot[1])"
      ]
    },
    {
      "cell_type": "code",
      "execution_count": null,
      "metadata": {
        "colab": {
          "base_uri": "https://localhost:8080/"
        },
        "id": "GDrZt4fSTlp0",
        "outputId": "9cdd842f-0a73-4868-8094-af804b539028"
      },
      "outputs": [
        {
          "output_type": "stream",
          "name": "stdout",
          "text": [
            "2160.8894534506726\n",
            "[0 1]\n",
            "2170.004846776747\n",
            "[0 1]\n"
          ]
        }
      ],
      "source": [
        "# Mostrando o cutoff_ depois da agregação\n",
        "print(devices_CTU[1].clf.estimators_[0].cutoff_)\n",
        "print(np.unique(y_pred_CTU_agreg))\n",
        "\n",
        "print(devices_isot[1].clf.estimators_[0].cutoff_)\n",
        "print(np.unique(y_pred_isot_agreg))"
      ]
    },
    {
      "cell_type": "code",
      "execution_count": null,
      "metadata": {
        "colab": {
          "base_uri": "https://localhost:8080/"
        },
        "id": "9C6T44SXRluR",
        "outputId": "3be97115-34b5-4aaa-a037-c57a8affe880"
      },
      "outputs": [
        {
          "output_type": "stream",
          "name": "stdout",
          "text": [
            "\tpesos - [0.3, 0.3, 0.2, 0.2]\n",
            "\n",
            "f1_score CTU:  0.9070342106422625\n",
            "f1_score isot: 0.9702205552540831\n"
          ]
        }
      ],
      "source": [
        "# Mostrando Pesos usados e f1_score resuldados\n",
        "print(f\"\\tpesos - {pesos[peso_atual]}\\n\")\n",
        "\n",
        "f1_score_CTU_agreg = f1_score(testing_labels_CTU[1], y_pred_CTU_agreg, average='weighted')\n",
        "f1_score_isot_agreg = f1_score(testing_labels_isot[1], y_pred_isot_agreg, average='weighted')\n",
        "\n",
        "print(f\"f1_score CTU:  {f1_score_CTU_agreg}\")\n",
        "print(f\"f1_score isot: {f1_score_isot_agreg}\")"
      ]
    },
    {
      "cell_type": "code",
      "execution_count": null,
      "metadata": {
        "colab": {
          "base_uri": "https://localhost:8080/",
          "height": 457
        },
        "id": "O_CikxBjRxNJ",
        "outputId": "e7ff01de-8006-41f1-daf7-2a4cb42fa6f4"
      },
      "outputs": [
        {
          "output_type": "display_data",
          "data": {
            "text/plain": [
              "<Figure size 640x480 with 1 Axes>"
            ],
            "image/png": "[encoded data removed]"
          },
          "metadata": {}
        }
      ],
      "source": [
        "#@title matplot CTU device agregado\n",
        "\n",
        "from matplotlib import pyplot as plt\n",
        "\n",
        "benign = np.where(testing_labels_CTU[1] == 0)[0]\n",
        "attacks = np.where(testing_labels_CTU[1] != 0)[0]\n",
        "\n",
        "benign_energies = y_en_CTU_agreg[benign]\n",
        "attacks_energies = y_en_CTU_agreg[attacks]\n",
        "\n",
        "cutoff = server_CTU.clf.estimators_[0].cutoff_\n",
        "\n",
        "bins = np.histogram(y_en_CTU_agreg, bins=20)[1]\n",
        "\n",
        "plt.hist(\n",
        "    attacks_energies,\n",
        "    bins,\n",
        "    facecolor=\"#006680\",\n",
        "    alpha=0.7,\n",
        "    ec=\"white\",\n",
        "    linewidth=0.3,\n",
        "    label=\"malicious\",\n",
        ")\n",
        "plt.hist(\n",
        "    benign_energies,\n",
        "    bins,\n",
        "    facecolor=\"#b3b3b3\",\n",
        "    alpha=0.7,\n",
        "    ec=\"white\",\n",
        "    linewidth=0.3,\n",
        "    label=\"benign\",\n",
        ")\n",
        "plt.axvline(cutoff, color=\"r\", linestyle=\"dashed\", linewidth=1)\n",
        "peso_texto = f\"Agregado CTU F1-socre: {f1_score_CTU_agreg:.5f}\"\n",
        "plt.text(0.95, 0.95, peso_texto, transform=plt.gca().transAxes, fontsize=10,\n",
        "         verticalalignment='top', horizontalalignment='right',\n",
        "         bbox=dict(facecolor='white', alpha=0.5, edgecolor='gray'))\n",
        "plt.legend()\n",
        "\n",
        "plt.xlabel(\"Energy\", fontsize=12)\n",
        "plt.ylabel(\"Density\", fontsize=12)\n",
        "\n",
        "plt.show()"
      ]
    },
    {
      "cell_type": "code",
      "execution_count": 87,
      "metadata": {
        "colab": {
          "base_uri": "https://localhost:8080/",
          "height": 453
        },
        "id": "6yStMqsAI6ZJ",
        "outputId": "688cf772-248b-4698-d01a-50907388d910"
      },
      "outputs": [
        {
          "output_type": "display_data",
          "data": {
            "text/plain": [
              "<Figure size 640x480 with 1 Axes>"
            ],
            "image/png": "[encoded data removed]"
          },
          "metadata": {}
        }
      ],
      "source": [
        "#@title matplot isot device agregado\n",
        "\n",
        "from matplotlib import pyplot as plt\n",
        "\n",
        "benign = np.where(testing_labels_isot[1] == 0)[0]\n",
        "attacks = np.where(testing_labels_isot[1] != 0)[0]\n",
        "\n",
        "benign_energies = y_en_isot_agreg[benign]\n",
        "attacks_energies = y_en_isot_agreg[attacks]\n",
        "\n",
        "cutoff = server_isot.clf.estimators_[0].cutoff_\n",
        "\n",
        "bins = np.histogram(y_en_isot_agreg, bins=20)[1]\n",
        "\n",
        "plt.hist(\n",
        "    attacks_energies,\n",
        "    bins,\n",
        "    facecolor=\"#006680\",\n",
        "    alpha=0.7,\n",
        "    ec=\"white\",\n",
        "    linewidth=0.3,\n",
        "    label=\"malicious\",\n",
        ")\n",
        "plt.hist(\n",
        "    benign_energies,\n",
        "    bins,\n",
        "    facecolor=\"#b3b3b3\",\n",
        "    alpha=0.7,\n",
        "    ec=\"white\",\n",
        "    linewidth=0.3,\n",
        "    label=\"benign\",\n",
        ")\n",
        "plt.axvline(cutoff, color=\"r\", linestyle=\"dashed\", linewidth=1)\n",
        "peso_texto = f\"Agregado isot F1-socre: {f1_score_isot_agreg:.5f}\"\n",
        "plt.text(0.95, 0.95, peso_texto, transform=plt.gca().transAxes, fontsize=10,\n",
        "         verticalalignment='bottom', horizontalalignment='right',\n",
        "         bbox=dict(facecolor='white', alpha=0.5, edgecolor='gray'))\n",
        "plt.legend()\n",
        "\n",
        "plt.xlabel(\"Energy\", fontsize=12)\n",
        "plt.ylabel(\"Density\", fontsize=12)\n",
        "\n",
        "plt.show()"
      ]
    },
    {
      "cell_type": "code",
      "execution_count": 88,
      "metadata": {
        "colab": {
          "base_uri": "https://localhost:8080/"
        },
        "id": "78ZEaVfANs4g",
        "outputId": "92da5a82-244e-440b-bb5d-bc84ffdadb0f"
      },
      "outputs": [
        {
          "output_type": "stream",
          "name": "stdout",
          "text": [
            "auc_roc_score:\n",
            "\n",
            "CTU AUC score: 0.7428130644303025\n",
            "ISOT AUC score: 0.9621787184649163\n"
          ]
        }
      ],
      "source": [
        "#@title Calculado o roc_auc_score\n",
        "\n",
        "from sklearn.metrics import roc_auc_score\n",
        "from sklearn.preprocessing import LabelBinarizer\n",
        "from sklearn.metrics import RocCurveDisplay\n",
        "import matplotlib.pyplot as plt\n",
        "\n",
        "CTU_agreg_pred = y_pred_CTU_agreg\n",
        "isot_agreg_pred = y_pred_isot_agreg\n",
        "\n",
        "def auc_roc(y_true, y_pred):\n",
        "    lb = LabelBinarizer()\n",
        "\n",
        "    lb.fit(y_true)\n",
        "    y_true_bin = lb.transform(y_true)\n",
        "    y_pred_bin = lb.transform(y_pred)\n",
        "\n",
        "    return roc_auc_score(y_true_bin, y_pred_bin, average='weighted')\n",
        "\n",
        "print(f\"auc_roc_score:\\n\")\n",
        "print(f\"CTU AUC score: {auc_roc(testing_labels_CTU[1],CTU_agreg_pred)}\")\n",
        "print(f\"ISOT AUC score: {auc_roc(testing_labels_isot[1],isot_agreg_pred)}\")"
      ]
    },
    {
      "cell_type": "code",
      "execution_count": 89,
      "metadata": {
        "colab": {
          "base_uri": "https://localhost:8080/",
          "height": 35
        },
        "id": "PQYHmpeQAK_D",
        "outputId": "187a4389-7074-4b93-cad5-e63b07a22108"
      },
      "outputs": [
        {
          "output_type": "execute_result",
          "data": {
            "text/plain": [
              "'new_threshold = np.percentile(y_en_CTU_agreg, 95)\\ndevices_CTU[1].clf.estimators_[0].cutoff_ = new_threshold\\ny_pred_CTU_agreg, y_en_CTU_agreg = devices_CTU[1].predict(testing_data_CTU[1])'"
            ],
            "application/vnd.google.colaboratory.intrinsic+json": {
              "type": "string"
            }
          },
          "metadata": {},
          "execution_count": 89
        }
      ],
      "source": [
        "'''new_threshold = np.percentile(y_en_CTU_agreg, 95)\n",
        "devices_CTU[1].clf.estimators_[0].cutoff_ = new_threshold\n",
        "y_pred_CTU_agreg, y_en_CTU_agreg = devices_CTU[1].predict(testing_data_CTU[1])'''"
      ]
    },
    {
      "cell_type": "code",
      "execution_count": 90,
      "metadata": {
        "id": "3uRsUeblqSgo"
      },
      "outputs": [],
      "source": [
        "devices_CTU[1].clf.estimators_[0].cutoff_ = devices_CTU[1].clf.estimators_[0]._define_cutoff()\n",
        "y_pred_CTU_agreg, y_en_CTU_agreg = devices_CTU[1].predict(testing_data_CTU[1])"
      ]
    },
    {
      "cell_type": "code",
      "execution_count": 91,
      "metadata": {
        "colab": {
          "base_uri": "https://localhost:8080/"
        },
        "id": "Rqug8EWHPfnj",
        "outputId": "326f420f-7f31-45a3-cc69-3d8e1c88b6e9"
      },
      "outputs": [
        {
          "output_type": "stream",
          "name": "stdout",
          "text": [
            "2595.313379098015\n",
            "[0 1]\n"
          ]
        }
      ],
      "source": [
        "print(devices_CTU[1].clf.estimators_[0].cutoff_)\n",
        "print(np.unique(y_pred_CTU_agreg))"
      ]
    },
    {
      "cell_type": "code",
      "execution_count": 92,
      "metadata": {
        "colab": {
          "base_uri": "https://localhost:8080/"
        },
        "id": "aDsdAO6K9HHt",
        "outputId": "9b85c614-f6f2-41bb-a80b-37f8eae32475"
      },
      "outputs": [
        {
          "output_type": "stream",
          "name": "stdout",
          "text": [
            "0.7861153176212968\n"
          ]
        }
      ],
      "source": [
        "f1_score_CTU_agreg = f1_score(testing_labels_CTU[1], y_pred_CTU_agreg, average='weighted')\n",
        "print(f1_score_CTU_agreg)"
      ]
    },
    {
      "cell_type": "code",
      "execution_count": 93,
      "metadata": {
        "colab": {
          "base_uri": "https://localhost:8080/",
          "height": 453
        },
        "id": "VymzBGHKAT4n",
        "outputId": "9f59be82-4e60-4e9a-e601-5a739f3fb408"
      },
      "outputs": [
        {
          "output_type": "display_data",
          "data": {
            "text/plain": [
              "<Figure size 640x480 with 1 Axes>"
            ],
            "image/png": "[encoded data removed]"
          },
          "metadata": {}
        }
      ],
      "source": [
        "#@title matplot device agregado\n",
        "\n",
        "from matplotlib import pyplot as plt\n",
        "\n",
        "benign = np.where(testing_labels_CTU[1] == 0)[0]\n",
        "attacks = np.where(testing_labels_CTU[1] != 0)[0]\n",
        "\n",
        "benign_energies = y_en_CTU_agreg[benign]\n",
        "attacks_energies = y_en_CTU_agreg[attacks]\n",
        "\n",
        "cutoff = devices_CTU[1].clf.estimators_[0].cutoff_\n",
        "\n",
        "bins = np.histogram(y_en_CTU_agreg, bins=20)[1]\n",
        "\n",
        "plt.hist(\n",
        "    attacks_energies,\n",
        "    bins,\n",
        "    facecolor=\"#006680\",\n",
        "    alpha=0.7,\n",
        "    ec=\"white\",\n",
        "    linewidth=0.3,\n",
        "    label=\"malicious\",\n",
        ")\n",
        "plt.hist(\n",
        "    benign_energies,\n",
        "    bins,\n",
        "    facecolor=\"#b3b3b3\",\n",
        "    alpha=0.7,\n",
        "    ec=\"white\",\n",
        "    linewidth=0.3,\n",
        "    label=\"benign\",\n",
        ")\n",
        "plt.axvline(cutoff, color=\"r\", linestyle=\"dashed\", linewidth=1)\n",
        "peso_texto = f\"Device agregado CTU F1-socre: {f1_score_CTU_agreg:.5f}\"\n",
        "plt.text(0.95, 0.95, peso_texto, transform=plt.gca().transAxes, fontsize=10,\n",
        "         verticalalignment='top', horizontalalignment='right',\n",
        "         bbox=dict(facecolor='white', alpha=0.5, edgecolor='gray'))\n",
        "plt.legend()\n",
        "\n",
        "plt.xlabel(\"Energy\", fontsize=12)\n",
        "plt.ylabel(\"Density\", fontsize=12)\n",
        "\n",
        "plt.show()"
      ]
    }
  ],
  "metadata": {
    "colab": {
      "provenance": []
    },
    "kernelspec": {
      "display_name": "Python 3",
      "name": "python3"
    },
    "language_info": {
      "name": "python"
    }
  },
  "nbformat": 4,
  "nbformat_minor": 0
}